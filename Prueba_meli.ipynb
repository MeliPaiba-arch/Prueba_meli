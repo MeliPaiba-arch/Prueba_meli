{
 "cells": [
  {
   "cell_type": "markdown",
   "id": "5fe540fc",
   "metadata": {},
   "source": [
    "<p style=\"font-family: Arial; font-size:3.75vw;color:purple; font-style:bold\"><br>\n",
    "Prueba Meli\n",
    "</p><br>"
   ]
  },
  {
   "cell_type": "markdown",
   "id": "212a7b5d",
   "metadata": {},
   "source": [
    "## 1. Recolección de Información"
   ]
  },
  {
   "cell_type": "code",
   "execution_count": 45,
   "id": "c6b3da32",
   "metadata": {},
   "outputs": [],
   "source": [
    "import requests\n",
    "import pandas as pd\n",
    "import numpy as np\n",
    "import json\n",
    "import matplotlib.pyplot as plt\n",
    "from sklearn.model_selection import train_test_split\n",
    "from sklearn.linear_model import RidgeClassifier\n",
    "from sklearn.preprocessing import StandardScaler"
   ]
  },
  {
   "cell_type": "code",
   "execution_count": 136,
   "id": "d9eb307d",
   "metadata": {},
   "outputs": [
    {
     "data": {
      "text/html": [
       "<div>\n",
       "<style scoped>\n",
       "    .dataframe tbody tr th:only-of-type {\n",
       "        vertical-align: middle;\n",
       "    }\n",
       "\n",
       "    .dataframe tbody tr th {\n",
       "        vertical-align: top;\n",
       "    }\n",
       "\n",
       "    .dataframe thead th {\n",
       "        text-align: right;\n",
       "    }\n",
       "</style>\n",
       "<table border=\"1\" class=\"dataframe\">\n",
       "  <thead>\n",
       "    <tr style=\"text-align: right;\">\n",
       "      <th></th>\n",
       "      <th>id</th>\n",
       "      <th>name</th>\n",
       "    </tr>\n",
       "  </thead>\n",
       "  <tbody>\n",
       "    <tr>\n",
       "      <th>0</th>\n",
       "      <td>MCO1747</td>\n",
       "      <td>Accesorios para Vehículos</td>\n",
       "    </tr>\n",
       "    <tr>\n",
       "      <th>1</th>\n",
       "      <td>MCO441917</td>\n",
       "      <td>Agro</td>\n",
       "    </tr>\n",
       "    <tr>\n",
       "      <th>2</th>\n",
       "      <td>MCO1403</td>\n",
       "      <td>Alimentos y Bebidas</td>\n",
       "    </tr>\n",
       "    <tr>\n",
       "      <th>3</th>\n",
       "      <td>MCO1071</td>\n",
       "      <td>Animales y Mascotas</td>\n",
       "    </tr>\n",
       "    <tr>\n",
       "      <th>4</th>\n",
       "      <td>MCO1367</td>\n",
       "      <td>Antigüedades y Colecciones</td>\n",
       "    </tr>\n",
       "  </tbody>\n",
       "</table>\n",
       "</div>"
      ],
      "text/plain": [
       "          id                        name\n",
       "0    MCO1747   Accesorios para Vehículos\n",
       "1  MCO441917                        Agro\n",
       "2    MCO1403         Alimentos y Bebidas\n",
       "3    MCO1071         Animales y Mascotas\n",
       "4    MCO1367  Antigüedades y Colecciones"
      ]
     },
     "execution_count": 136,
     "metadata": {},
     "output_type": "execute_result"
    }
   ],
   "source": [
    "#categorías de meli en Colombia\n",
    "cats = requests.get('https://api.mercadolibre.com/sites/MCO/categories')\n",
    "prueba = cats.json()\n",
    "df = pd.DataFrame(prueba)\n",
    "df.head()"
   ]
  },
  {
   "cell_type": "code",
   "execution_count": 137,
   "id": "d6061f08",
   "metadata": {},
   "outputs": [],
   "source": [
    "# Se trae la información de los primeros 1000 items de cada categoría listada en 'cats'\n",
    "# MCO1039 camaras y accesorios\n",
    "# MCO1648 computacion\n",
    "# MCO1000 Electrónica, Audio y Video\n",
    "\n",
    "cats = ['MCO1000', 'MCO1039', 'MCO1648']\n",
    "list_offset = [i*50 for i in range(0,20)]\n",
    "\n",
    "df_cats = pd.DataFrame()\n",
    "\n",
    "for cat_id in cats:\n",
    "    \n",
    "    df_item = pd.DataFrame()\n",
    "    for offset in list_offset:\n",
    "        url = f'https://api.mercadolibre.com/sites/MCO/search?category={cat_id}&offset={offset}'\n",
    "        request = requests.get(url)\n",
    "        item = request.json()\n",
    "        df = pd.DataFrame(item['results'])\n",
    "        df_item = df_item.append(df)\n",
    "    df_cats = df_cats.append(df_item)"
   ]
  },
  {
   "cell_type": "code",
   "execution_count": 139,
   "id": "7d690383",
   "metadata": {},
   "outputs": [
    {
     "data": {
      "text/plain": [
       "(2997, 38)"
      ]
     },
     "execution_count": 139,
     "metadata": {},
     "output_type": "execute_result"
    }
   ],
   "source": [
    "df_cats.shape"
   ]
  },
  {
   "cell_type": "code",
   "execution_count": 140,
   "id": "1bb15cfd",
   "metadata": {},
   "outputs": [
    {
     "data": {
      "text/html": [
       "<div>\n",
       "<style scoped>\n",
       "    .dataframe tbody tr th:only-of-type {\n",
       "        vertical-align: middle;\n",
       "    }\n",
       "\n",
       "    .dataframe tbody tr th {\n",
       "        vertical-align: top;\n",
       "    }\n",
       "\n",
       "    .dataframe thead th {\n",
       "        text-align: right;\n",
       "    }\n",
       "</style>\n",
       "<table border=\"1\" class=\"dataframe\">\n",
       "  <thead>\n",
       "    <tr style=\"text-align: right;\">\n",
       "      <th></th>\n",
       "      <th>id</th>\n",
       "      <th>site_id</th>\n",
       "      <th>title</th>\n",
       "      <th>seller</th>\n",
       "      <th>price</th>\n",
       "      <th>prices</th>\n",
       "      <th>sale_price</th>\n",
       "      <th>currency_id</th>\n",
       "      <th>available_quantity</th>\n",
       "      <th>sold_quantity</th>\n",
       "      <th>...</th>\n",
       "      <th>tags</th>\n",
       "      <th>catalog_listing</th>\n",
       "      <th>use_thumbnail_id</th>\n",
       "      <th>offer_score</th>\n",
       "      <th>offer_share</th>\n",
       "      <th>match_score</th>\n",
       "      <th>winner_item_id</th>\n",
       "      <th>melicoin</th>\n",
       "      <th>order_backend</th>\n",
       "      <th>differential_pricing</th>\n",
       "    </tr>\n",
       "  </thead>\n",
       "  <tbody>\n",
       "    <tr>\n",
       "      <th>0</th>\n",
       "      <td>MCO618049088</td>\n",
       "      <td>MCO</td>\n",
       "      <td>Audífonos Sony Zx Series Mdr-zx110 Negro</td>\n",
       "      <td>{'id': 168810672, 'permalink': None, 'registra...</td>\n",
       "      <td>39900</td>\n",
       "      <td>{'id': 'MCO618049088', 'prices': [{'id': '1', ...</td>\n",
       "      <td>None</td>\n",
       "      <td>COP</td>\n",
       "      <td>241</td>\n",
       "      <td>2053</td>\n",
       "      <td>...</td>\n",
       "      <td>[good_quality_picture, loyalty_discount_eligib...</td>\n",
       "      <td>True</td>\n",
       "      <td>True</td>\n",
       "      <td>None</td>\n",
       "      <td>None</td>\n",
       "      <td>None</td>\n",
       "      <td>None</td>\n",
       "      <td>None</td>\n",
       "      <td>1</td>\n",
       "      <td>NaN</td>\n",
       "    </tr>\n",
       "    <tr>\n",
       "      <th>1</th>\n",
       "      <td>MCO810988443</td>\n",
       "      <td>MCO</td>\n",
       "      <td>Roku Express 3930 Estándar Full Hd 32mb Negro ...</td>\n",
       "      <td>{'id': 323005693, 'permalink': None, 'registra...</td>\n",
       "      <td>130275</td>\n",
       "      <td>{'id': 'MCO810988443', 'prices': [{'id': '23',...</td>\n",
       "      <td>None</td>\n",
       "      <td>COP</td>\n",
       "      <td>9</td>\n",
       "      <td>486</td>\n",
       "      <td>...</td>\n",
       "      <td>[good_quality_picture, immediate_payment, cart...</td>\n",
       "      <td>True</td>\n",
       "      <td>True</td>\n",
       "      <td>None</td>\n",
       "      <td>None</td>\n",
       "      <td>None</td>\n",
       "      <td>None</td>\n",
       "      <td>None</td>\n",
       "      <td>2</td>\n",
       "      <td>NaN</td>\n",
       "    </tr>\n",
       "  </tbody>\n",
       "</table>\n",
       "<p>2 rows × 38 columns</p>\n",
       "</div>"
      ],
      "text/plain": [
       "             id site_id                                              title  \\\n",
       "0  MCO618049088     MCO           Audífonos Sony Zx Series Mdr-zx110 Negro   \n",
       "1  MCO810988443     MCO  Roku Express 3930 Estándar Full Hd 32mb Negro ...   \n",
       "\n",
       "                                              seller   price  \\\n",
       "0  {'id': 168810672, 'permalink': None, 'registra...   39900   \n",
       "1  {'id': 323005693, 'permalink': None, 'registra...  130275   \n",
       "\n",
       "                                              prices sale_price currency_id  \\\n",
       "0  {'id': 'MCO618049088', 'prices': [{'id': '1', ...       None         COP   \n",
       "1  {'id': 'MCO810988443', 'prices': [{'id': '23',...       None         COP   \n",
       "\n",
       "   available_quantity  sold_quantity  ...  \\\n",
       "0                 241           2053  ...   \n",
       "1                   9            486  ...   \n",
       "\n",
       "                                                tags catalog_listing  \\\n",
       "0  [good_quality_picture, loyalty_discount_eligib...            True   \n",
       "1  [good_quality_picture, immediate_payment, cart...            True   \n",
       "\n",
       "  use_thumbnail_id offer_score offer_share match_score winner_item_id  \\\n",
       "0             True        None        None        None           None   \n",
       "1             True        None        None        None           None   \n",
       "\n",
       "   melicoin order_backend differential_pricing  \n",
       "0      None             1                  NaN  \n",
       "1      None             2                  NaN  \n",
       "\n",
       "[2 rows x 38 columns]"
      ]
     },
     "execution_count": 140,
     "metadata": {},
     "output_type": "execute_result"
    }
   ],
   "source": [
    "df_cats.head(2)"
   ]
  },
  {
   "cell_type": "code",
   "execution_count": 5,
   "id": "f216e793",
   "metadata": {},
   "outputs": [
    {
     "data": {
      "text/plain": [
       "(2938, 38)"
      ]
     },
     "execution_count": 5,
     "metadata": {},
     "output_type": "execute_result"
    }
   ],
   "source": [
    "df_cats.shape"
   ]
  },
  {
   "cell_type": "code",
   "execution_count": 515,
   "id": "1c851d50",
   "metadata": {},
   "outputs": [],
   "source": [
    "#df_item.shape\n",
    "\n",
    "#precios = pd.DataFrame(df['prices'][9]['prices'])\n",
    "#precios['conditions'][0]"
   ]
  },
  {
   "cell_type": "code",
   "execution_count": 141,
   "id": "90adf8c7",
   "metadata": {},
   "outputs": [
    {
     "data": {
      "text/plain": [
       "771"
      ]
     },
     "execution_count": 141,
     "metadata": {},
     "output_type": "execute_result"
    }
   ],
   "source": [
    "# lista de vendedores de los primeros mil productos de la categoría\n",
    "vendedores = pd.DataFrame(df_cats['seller'].tolist())\n",
    "unicos = pd.DataFrame(vendedores['id'].unique())\n",
    "len(unicos)"
   ]
  },
  {
   "cell_type": "code",
   "execution_count": 7,
   "id": "1acdc80f",
   "metadata": {},
   "outputs": [],
   "source": [
    "df_sellers = pd.DataFrame()\n",
    "\n",
    "for seller_id in vendedores['id'].unique():\n",
    "    url = f'https://api.mercadolibre.com/sites/MCO/search?seller_id={seller_id}'\n",
    "    request = requests.get(url)\n",
    "    info_seller = request.json()\n",
    "    \n",
    "    inf_seller_1 = pd.DataFrame([info_seller['seller']])[['id','nickname','permalink','registration_date',\n",
    "                                                            'real_estate_agency','car_dealer']]\n",
    "    inf_seller_2 = pd.DataFrame([info_seller['seller']['seller_reputation']])[['level_id','power_seller_status']]\n",
    "    inf_seller_3 = pd.DataFrame([info_seller['seller']['seller_reputation']['transactions']])[['canceled','period'\n",
    "                                                                                           ,'total','completed']]\n",
    "    inf_seller_4 = pd.DataFrame([info_seller['seller']['seller_reputation']['transactions']['ratings']])\n",
    "    inf_seller_5 = pd.DataFrame([info_seller['seller']['seller_reputation']['metrics']['sales']])\n",
    "    inf_seller_5.columns = ['last_period','last_completed']\n",
    "\n",
    "\n",
    "    seller = pd.concat([inf_seller_1, inf_seller_2, inf_seller_3, inf_seller_4, inf_seller_5], axis=1)\n",
    "    df_sellers = df_sellers.append(seller)"
   ]
  },
  {
   "cell_type": "code",
   "execution_count": 142,
   "id": "7d884754",
   "metadata": {},
   "outputs": [
    {
     "data": {
      "text/plain": [
       "(766, 17)"
      ]
     },
     "execution_count": 142,
     "metadata": {},
     "output_type": "execute_result"
    }
   ],
   "source": [
    "df_sellers.shape"
   ]
  },
  {
   "cell_type": "code",
   "execution_count": 9,
   "id": "f95751d7",
   "metadata": {},
   "outputs": [
    {
     "data": {
      "text/html": [
       "<div>\n",
       "<style scoped>\n",
       "    .dataframe tbody tr th:only-of-type {\n",
       "        vertical-align: middle;\n",
       "    }\n",
       "\n",
       "    .dataframe tbody tr th {\n",
       "        vertical-align: top;\n",
       "    }\n",
       "\n",
       "    .dataframe thead th {\n",
       "        text-align: right;\n",
       "    }\n",
       "</style>\n",
       "<table border=\"1\" class=\"dataframe\">\n",
       "  <thead>\n",
       "    <tr style=\"text-align: right;\">\n",
       "      <th></th>\n",
       "      <th>id</th>\n",
       "      <th>nickname</th>\n",
       "      <th>permalink</th>\n",
       "      <th>registration_date</th>\n",
       "      <th>real_estate_agency</th>\n",
       "      <th>car_dealer</th>\n",
       "      <th>level_id</th>\n",
       "      <th>power_seller_status</th>\n",
       "      <th>canceled</th>\n",
       "      <th>period</th>\n",
       "      <th>total</th>\n",
       "      <th>completed</th>\n",
       "      <th>negative</th>\n",
       "      <th>neutral</th>\n",
       "      <th>positive</th>\n",
       "      <th>last_period</th>\n",
       "      <th>last_completed</th>\n",
       "    </tr>\n",
       "  </thead>\n",
       "  <tbody>\n",
       "    <tr>\n",
       "      <th>0</th>\n",
       "      <td>168810672</td>\n",
       "      <td>SONY COLOMBIA</td>\n",
       "      <td>http://perfil.mercadolibre.com.co/SONY+COLOMBIA</td>\n",
       "      <td>2014-10-14T12:03:55.000-04:00</td>\n",
       "      <td>False</td>\n",
       "      <td>False</td>\n",
       "      <td>5_green</td>\n",
       "      <td>platinum</td>\n",
       "      <td>1096</td>\n",
       "      <td>historic</td>\n",
       "      <td>22677</td>\n",
       "      <td>21581</td>\n",
       "      <td>0.02</td>\n",
       "      <td>0.02</td>\n",
       "      <td>0.96</td>\n",
       "      <td>60 days</td>\n",
       "      <td>3277</td>\n",
       "    </tr>\n",
       "    <tr>\n",
       "      <th>0</th>\n",
       "      <td>323005693</td>\n",
       "      <td>STREETGAMINGSTORE</td>\n",
       "      <td>http://perfil.mercadolibre.com.co/STREETGAMING...</td>\n",
       "      <td>2018-05-21T04:53:05.000-04:00</td>\n",
       "      <td>False</td>\n",
       "      <td>False</td>\n",
       "      <td>5_green</td>\n",
       "      <td>platinum</td>\n",
       "      <td>65</td>\n",
       "      <td>historic</td>\n",
       "      <td>1845</td>\n",
       "      <td>1780</td>\n",
       "      <td>0.00</td>\n",
       "      <td>0.00</td>\n",
       "      <td>1.00</td>\n",
       "      <td>60 days</td>\n",
       "      <td>313</td>\n",
       "    </tr>\n",
       "  </tbody>\n",
       "</table>\n",
       "</div>"
      ],
      "text/plain": [
       "          id           nickname  \\\n",
       "0  168810672      SONY COLOMBIA   \n",
       "0  323005693  STREETGAMINGSTORE   \n",
       "\n",
       "                                           permalink  \\\n",
       "0    http://perfil.mercadolibre.com.co/SONY+COLOMBIA   \n",
       "0  http://perfil.mercadolibre.com.co/STREETGAMING...   \n",
       "\n",
       "               registration_date  real_estate_agency  car_dealer level_id  \\\n",
       "0  2014-10-14T12:03:55.000-04:00               False       False  5_green   \n",
       "0  2018-05-21T04:53:05.000-04:00               False       False  5_green   \n",
       "\n",
       "  power_seller_status  canceled    period  total  completed  negative  \\\n",
       "0            platinum      1096  historic  22677      21581      0.02   \n",
       "0            platinum        65  historic   1845       1780      0.00   \n",
       "\n",
       "   neutral  positive last_period  last_completed  \n",
       "0     0.02      0.96     60 days            3277  \n",
       "0     0.00      1.00     60 days             313  "
      ]
     },
     "execution_count": 9,
     "metadata": {},
     "output_type": "execute_result"
    }
   ],
   "source": [
    "df_sellers.head(2)"
   ]
  },
  {
   "cell_type": "code",
   "execution_count": 20,
   "id": "58b970db",
   "metadata": {},
   "outputs": [],
   "source": [
    "#otra informacion que podria ser util\n",
    "\n",
    "#paging = pd.DataFrame([info_seller['paging']])\n",
    "#results = pd.DataFrame(info_seller['results'])\n",
    "#sort = pd.DataFrame([info_seller['sort']])\n",
    "#available_sorts = pd.DataFrame(info_seller['available_sorts'])\n",
    "#filters = pd.DataFrame(info_seller['filters'])\n",
    "#available_filters = pd.DataFrame(info_seller['available_filters'])"
   ]
  },
  {
   "cell_type": "markdown",
   "id": "2513baef",
   "metadata": {},
   "source": [
    "## 2. Exploración y limpieza Información"
   ]
  },
  {
   "cell_type": "code",
   "execution_count": 11,
   "id": "85034ec0",
   "metadata": {},
   "outputs": [
    {
     "data": {
      "text/html": [
       "<div>\n",
       "<style scoped>\n",
       "    .dataframe tbody tr th:only-of-type {\n",
       "        vertical-align: middle;\n",
       "    }\n",
       "\n",
       "    .dataframe tbody tr th {\n",
       "        vertical-align: top;\n",
       "    }\n",
       "\n",
       "    .dataframe thead th {\n",
       "        text-align: right;\n",
       "    }\n",
       "</style>\n",
       "<table border=\"1\" class=\"dataframe\">\n",
       "  <thead>\n",
       "    <tr style=\"text-align: right;\">\n",
       "      <th></th>\n",
       "      <th>id</th>\n",
       "      <th>nickname</th>\n",
       "      <th>permalink</th>\n",
       "      <th>registration_date</th>\n",
       "      <th>real_estate_agency</th>\n",
       "      <th>car_dealer</th>\n",
       "      <th>level_id</th>\n",
       "      <th>power_seller_status</th>\n",
       "      <th>canceled</th>\n",
       "      <th>period</th>\n",
       "      <th>total</th>\n",
       "      <th>completed</th>\n",
       "      <th>negative</th>\n",
       "      <th>neutral</th>\n",
       "      <th>positive</th>\n",
       "      <th>last_period</th>\n",
       "      <th>last_completed</th>\n",
       "    </tr>\n",
       "  </thead>\n",
       "  <tbody>\n",
       "    <tr>\n",
       "      <th>0</th>\n",
       "      <td>168810672</td>\n",
       "      <td>SONY COLOMBIA</td>\n",
       "      <td>http://perfil.mercadolibre.com.co/SONY+COLOMBIA</td>\n",
       "      <td>2014-10-14T12:03:55.000-04:00</td>\n",
       "      <td>False</td>\n",
       "      <td>False</td>\n",
       "      <td>5_green</td>\n",
       "      <td>platinum</td>\n",
       "      <td>1096</td>\n",
       "      <td>historic</td>\n",
       "      <td>22677</td>\n",
       "      <td>21581</td>\n",
       "      <td>0.02</td>\n",
       "      <td>0.02</td>\n",
       "      <td>0.96</td>\n",
       "      <td>60 days</td>\n",
       "      <td>3277</td>\n",
       "    </tr>\n",
       "    <tr>\n",
       "      <th>0</th>\n",
       "      <td>323005693</td>\n",
       "      <td>STREETGAMINGSTORE</td>\n",
       "      <td>http://perfil.mercadolibre.com.co/STREETGAMING...</td>\n",
       "      <td>2018-05-21T04:53:05.000-04:00</td>\n",
       "      <td>False</td>\n",
       "      <td>False</td>\n",
       "      <td>5_green</td>\n",
       "      <td>platinum</td>\n",
       "      <td>65</td>\n",
       "      <td>historic</td>\n",
       "      <td>1845</td>\n",
       "      <td>1780</td>\n",
       "      <td>0.00</td>\n",
       "      <td>0.00</td>\n",
       "      <td>1.00</td>\n",
       "      <td>60 days</td>\n",
       "      <td>313</td>\n",
       "    </tr>\n",
       "  </tbody>\n",
       "</table>\n",
       "</div>"
      ],
      "text/plain": [
       "          id           nickname  \\\n",
       "0  168810672      SONY COLOMBIA   \n",
       "0  323005693  STREETGAMINGSTORE   \n",
       "\n",
       "                                           permalink  \\\n",
       "0    http://perfil.mercadolibre.com.co/SONY+COLOMBIA   \n",
       "0  http://perfil.mercadolibre.com.co/STREETGAMING...   \n",
       "\n",
       "               registration_date  real_estate_agency  car_dealer level_id  \\\n",
       "0  2014-10-14T12:03:55.000-04:00               False       False  5_green   \n",
       "0  2018-05-21T04:53:05.000-04:00               False       False  5_green   \n",
       "\n",
       "  power_seller_status  canceled    period  total  completed  negative  \\\n",
       "0            platinum      1096  historic  22677      21581      0.02   \n",
       "0            platinum        65  historic   1845       1780      0.00   \n",
       "\n",
       "   neutral  positive last_period  last_completed  \n",
       "0     0.02      0.96     60 days            3277  \n",
       "0     0.00      1.00     60 days             313  "
      ]
     },
     "execution_count": 11,
     "metadata": {},
     "output_type": "execute_result"
    }
   ],
   "source": [
    "df_sellers.head(2)"
   ]
  },
  {
   "cell_type": "code",
   "execution_count": 91,
   "id": "8530f563",
   "metadata": {},
   "outputs": [
    {
     "data": {
      "text/plain": [
       "id                       0\n",
       "nickname                 0\n",
       "permalink                0\n",
       "registration_date        0\n",
       "real_estate_agency       0\n",
       "car_dealer               0\n",
       "level_id                 0\n",
       "power_seller_status    106\n",
       "canceled                 0\n",
       "period                   0\n",
       "total                    0\n",
       "completed                0\n",
       "negative                 0\n",
       "neutral                  0\n",
       "positive                 0\n",
       "last_period              0\n",
       "last_completed           0\n",
       "dtype: int64"
      ]
     },
     "execution_count": 91,
     "metadata": {},
     "output_type": "execute_result"
    }
   ],
   "source": [
    "df_sellers.isna().sum()"
   ]
  },
  {
   "cell_type": "code",
   "execution_count": 145,
   "id": "2f63a857",
   "metadata": {},
   "outputs": [
    {
     "data": {
      "text/html": [
       "<div>\n",
       "<style scoped>\n",
       "    .dataframe tbody tr th:only-of-type {\n",
       "        vertical-align: middle;\n",
       "    }\n",
       "\n",
       "    .dataframe tbody tr th {\n",
       "        vertical-align: top;\n",
       "    }\n",
       "\n",
       "    .dataframe thead th {\n",
       "        text-align: right;\n",
       "    }\n",
       "</style>\n",
       "<table border=\"1\" class=\"dataframe\">\n",
       "  <thead>\n",
       "    <tr style=\"text-align: right;\">\n",
       "      <th></th>\n",
       "      <th>id</th>\n",
       "      <th>nickname</th>\n",
       "      <th>permalink</th>\n",
       "      <th>registration_date</th>\n",
       "      <th>level_id</th>\n",
       "      <th>power_seller_status</th>\n",
       "      <th>canceled</th>\n",
       "      <th>total</th>\n",
       "      <th>completed</th>\n",
       "      <th>negative</th>\n",
       "      <th>neutral</th>\n",
       "      <th>positive</th>\n",
       "      <th>last_period</th>\n",
       "      <th>last_completed</th>\n",
       "    </tr>\n",
       "  </thead>\n",
       "  <tbody>\n",
       "    <tr>\n",
       "      <th>0</th>\n",
       "      <td>168810672</td>\n",
       "      <td>SONY COLOMBIA</td>\n",
       "      <td>http://perfil.mercadolibre.com.co/SONY+COLOMBIA</td>\n",
       "      <td>2014-10-14T12:03:55.000-04:00</td>\n",
       "      <td>5_green</td>\n",
       "      <td>platinum</td>\n",
       "      <td>1096</td>\n",
       "      <td>22677</td>\n",
       "      <td>21581</td>\n",
       "      <td>0.02</td>\n",
       "      <td>0.02</td>\n",
       "      <td>0.96</td>\n",
       "      <td>60 days</td>\n",
       "      <td>3277</td>\n",
       "    </tr>\n",
       "    <tr>\n",
       "      <th>0</th>\n",
       "      <td>323005693</td>\n",
       "      <td>STREETGAMINGSTORE</td>\n",
       "      <td>http://perfil.mercadolibre.com.co/STREETGAMING...</td>\n",
       "      <td>2018-05-21T04:53:05.000-04:00</td>\n",
       "      <td>5_green</td>\n",
       "      <td>platinum</td>\n",
       "      <td>65</td>\n",
       "      <td>1845</td>\n",
       "      <td>1780</td>\n",
       "      <td>0.00</td>\n",
       "      <td>0.00</td>\n",
       "      <td>1.00</td>\n",
       "      <td>60 days</td>\n",
       "      <td>313</td>\n",
       "    </tr>\n",
       "  </tbody>\n",
       "</table>\n",
       "</div>"
      ],
      "text/plain": [
       "          id           nickname  \\\n",
       "0  168810672      SONY COLOMBIA   \n",
       "0  323005693  STREETGAMINGSTORE   \n",
       "\n",
       "                                           permalink  \\\n",
       "0    http://perfil.mercadolibre.com.co/SONY+COLOMBIA   \n",
       "0  http://perfil.mercadolibre.com.co/STREETGAMING...   \n",
       "\n",
       "               registration_date level_id power_seller_status  canceled  \\\n",
       "0  2014-10-14T12:03:55.000-04:00  5_green            platinum      1096   \n",
       "0  2018-05-21T04:53:05.000-04:00  5_green            platinum        65   \n",
       "\n",
       "   total  completed  negative  neutral  positive last_period  last_completed  \n",
       "0  22677      21581      0.02     0.02      0.96     60 days            3277  \n",
       "0   1845       1780      0.00     0.00      1.00     60 days             313  "
      ]
     },
     "execution_count": 145,
     "metadata": {},
     "output_type": "execute_result"
    }
   ],
   "source": [
    "#eliminamos las variables con valor constante\n",
    "prueba = df_sellers.loc[:,df_sellers.apply(pd.Series.nunique) != 1]\n",
    "prueba.head(2)"
   ]
  },
  {
   "cell_type": "code",
   "execution_count": 146,
   "id": "a72292bb",
   "metadata": {},
   "outputs": [
    {
     "data": {
      "text/plain": [
       "(766, 14)"
      ]
     },
     "execution_count": 146,
     "metadata": {},
     "output_type": "execute_result"
    }
   ],
   "source": [
    "prueba.shape"
   ]
  },
  {
   "cell_type": "code",
   "execution_count": 147,
   "id": "b1d19f6c",
   "metadata": {},
   "outputs": [
    {
     "data": {
      "text/plain": [
       "(536, 14)"
      ]
     },
     "execution_count": 147,
     "metadata": {},
     "output_type": "execute_result"
    }
   ],
   "source": [
    "#seleccionamos los vendedores con valores de venta entre los cuantiles seleccionados\n",
    "min_ventas = prueba[\"completed\"].quantile(.15)\n",
    "max_ventas = prueba[\"completed\"].quantile(.85)\n",
    "prueba_subset = prueba[prueba[\"completed\"].between(min_ventas, max_ventas)]\n",
    "prueba_subset.shape"
   ]
  },
  {
   "cell_type": "code",
   "execution_count": 148,
   "id": "fe32686e",
   "metadata": {},
   "outputs": [
    {
     "data": {
      "text/plain": [
       "408"
      ]
     },
     "execution_count": 148,
     "metadata": {},
     "output_type": "execute_result"
    }
   ],
   "source": [
    "min(prueba_subset[\"completed\"])"
   ]
  },
  {
   "cell_type": "code",
   "execution_count": 151,
   "id": "e06b58b4",
   "metadata": {},
   "outputs": [
    {
     "data": {
      "image/png": "[encoded data removed]",
      "text/plain": [
       "<Figure size 432x288 with 1 Axes>"
      ]
     },
     "metadata": {
      "needs_background": "light"
     },
     "output_type": "display_data"
    }
   ],
   "source": [
    "#distribucion de las ventas de los vendedores seleccionados\n",
    "ventas = prueba[\"completed\"]\n",
    "ventas = ventas[ventas.between(ventas.quantile(.15), ventas.quantile(.85))]\n",
    "(n, bins, patches) = plt.hist(ventas, bins=10, label='hist')\n",
    "\n",
    "plt.show()"
   ]
  },
  {
   "cell_type": "code",
   "execution_count": 21,
   "id": "75e9e048",
   "metadata": {},
   "outputs": [],
   "source": [
    "bins\n",
    "bins = bins.tolist()"
   ]
  },
  {
   "cell_type": "code",
   "execution_count": 152,
   "id": "ab2226bb",
   "metadata": {},
   "outputs": [
    {
     "data": {
      "text/plain": [
       "array([ 407. , 1239.8, 2071.6, 2903.4, 3735.2, 4567. , 5398.8, 6230.6,\n",
       "       7062.4, 7894.2, 8726. ])"
      ]
     },
     "execution_count": 152,
     "metadata": {},
     "output_type": "execute_result"
    }
   ],
   "source": [
    "bins[0] = bins[0]-1\n",
    "bins"
   ]
  },
  {
   "cell_type": "code",
   "execution_count": 157,
   "id": "7eddb8de",
   "metadata": {},
   "outputs": [
    {
     "name": "stderr",
     "output_type": "stream",
     "text": [
      "/opt/anaconda3/lib/python3.8/site-packages/pandas/core/indexing.py:1597: SettingWithCopyWarning: \n",
      "A value is trying to be set on a copy of a slice from a DataFrame.\n",
      "Try using .loc[row_indexer,col_indexer] = value instead\n",
      "\n",
      "See the caveats in the documentation: https://pandas.pydata.org/pandas-docs/stable/user_guide/indexing.html#returning-a-view-versus-a-copy\n",
      "  self.obj[key] = value\n",
      "/opt/anaconda3/lib/python3.8/site-packages/pandas/core/indexing.py:1676: SettingWithCopyWarning: \n",
      "A value is trying to be set on a copy of a slice from a DataFrame.\n",
      "Try using .loc[row_indexer,col_indexer] = value instead\n",
      "\n",
      "See the caveats in the documentation: https://pandas.pydata.org/pandas-docs/stable/user_guide/indexing.html#returning-a-view-versus-a-copy\n",
      "  self._setitem_single_column(ilocs[0], value, pi)\n"
     ]
    },
    {
     "data": {
      "text/html": [
       "<div>\n",
       "<style scoped>\n",
       "    .dataframe tbody tr th:only-of-type {\n",
       "        vertical-align: middle;\n",
       "    }\n",
       "\n",
       "    .dataframe tbody tr th {\n",
       "        vertical-align: top;\n",
       "    }\n",
       "\n",
       "    .dataframe thead th {\n",
       "        text-align: right;\n",
       "    }\n",
       "</style>\n",
       "<table border=\"1\" class=\"dataframe\">\n",
       "  <thead>\n",
       "    <tr style=\"text-align: right;\">\n",
       "      <th></th>\n",
       "      <th>id</th>\n",
       "      <th>nickname</th>\n",
       "      <th>permalink</th>\n",
       "      <th>registration_date</th>\n",
       "      <th>level_id</th>\n",
       "      <th>power_seller_status</th>\n",
       "      <th>canceled</th>\n",
       "      <th>total</th>\n",
       "      <th>completed</th>\n",
       "      <th>negative</th>\n",
       "      <th>neutral</th>\n",
       "      <th>positive</th>\n",
       "      <th>last_period</th>\n",
       "      <th>last_completed</th>\n",
       "      <th>binned</th>\n",
       "    </tr>\n",
       "  </thead>\n",
       "  <tbody>\n",
       "    <tr>\n",
       "      <th>0</th>\n",
       "      <td>323005693</td>\n",
       "      <td>STREETGAMINGSTORE</td>\n",
       "      <td>http://perfil.mercadolibre.com.co/STREETGAMING...</td>\n",
       "      <td>2018-05-21T04:53:05.000-04:00</td>\n",
       "      <td>5_green</td>\n",
       "      <td>platinum</td>\n",
       "      <td>65</td>\n",
       "      <td>1845</td>\n",
       "      <td>1780</td>\n",
       "      <td>0.00</td>\n",
       "      <td>0.00</td>\n",
       "      <td>1.00</td>\n",
       "      <td>60 days</td>\n",
       "      <td>313</td>\n",
       "      <td>2</td>\n",
       "    </tr>\n",
       "    <tr>\n",
       "      <th>0</th>\n",
       "      <td>254779222</td>\n",
       "      <td>DRONES LUXURY</td>\n",
       "      <td>http://perfil.mercadolibre.com.co/DRONES+LUXURY</td>\n",
       "      <td>2017-04-30T23:07:37.000-04:00</td>\n",
       "      <td>5_green</td>\n",
       "      <td>platinum</td>\n",
       "      <td>102</td>\n",
       "      <td>3356</td>\n",
       "      <td>3254</td>\n",
       "      <td>0.01</td>\n",
       "      <td>0.01</td>\n",
       "      <td>0.98</td>\n",
       "      <td>60 days</td>\n",
       "      <td>746</td>\n",
       "      <td>4</td>\n",
       "    </tr>\n",
       "    <tr>\n",
       "      <th>0</th>\n",
       "      <td>76085013</td>\n",
       "      <td>OFERTA USA</td>\n",
       "      <td>http://perfil.mercadolibre.com.co/OFERTA+USA</td>\n",
       "      <td>2004-10-05T20:08:36.000-04:00</td>\n",
       "      <td>5_green</td>\n",
       "      <td>platinum</td>\n",
       "      <td>169</td>\n",
       "      <td>6606</td>\n",
       "      <td>6437</td>\n",
       "      <td>0.02</td>\n",
       "      <td>0.01</td>\n",
       "      <td>0.97</td>\n",
       "      <td>60 days</td>\n",
       "      <td>790</td>\n",
       "      <td>8</td>\n",
       "    </tr>\n",
       "    <tr>\n",
       "      <th>0</th>\n",
       "      <td>748090828</td>\n",
       "      <td>SUPERTECNOLOGIAYMASBARRANQUILL</td>\n",
       "      <td>http://perfil.mercadolibre.com.co/SUPERTECNOLO...</td>\n",
       "      <td>2021-04-22T16:50:55.000-04:00</td>\n",
       "      <td>4_light_green</td>\n",
       "      <td>None</td>\n",
       "      <td>99</td>\n",
       "      <td>936</td>\n",
       "      <td>837</td>\n",
       "      <td>0.05</td>\n",
       "      <td>0.05</td>\n",
       "      <td>0.90</td>\n",
       "      <td>60 days</td>\n",
       "      <td>162</td>\n",
       "      <td>1</td>\n",
       "    </tr>\n",
       "    <tr>\n",
       "      <th>0</th>\n",
       "      <td>205606809</td>\n",
       "      <td>TEKNOPOLISCOLOMBIA</td>\n",
       "      <td>http://perfil.mercadolibre.com.co/TEKNOPOLISCO...</td>\n",
       "      <td>2016-02-10T10:10:34.000-04:00</td>\n",
       "      <td>5_green</td>\n",
       "      <td>platinum</td>\n",
       "      <td>491</td>\n",
       "      <td>6791</td>\n",
       "      <td>6300</td>\n",
       "      <td>0.04</td>\n",
       "      <td>0.04</td>\n",
       "      <td>0.92</td>\n",
       "      <td>60 days</td>\n",
       "      <td>1113</td>\n",
       "      <td>8</td>\n",
       "    </tr>\n",
       "  </tbody>\n",
       "</table>\n",
       "</div>"
      ],
      "text/plain": [
       "          id                        nickname  \\\n",
       "0  323005693               STREETGAMINGSTORE   \n",
       "0  254779222                   DRONES LUXURY   \n",
       "0   76085013                      OFERTA USA   \n",
       "0  748090828  SUPERTECNOLOGIAYMASBARRANQUILL   \n",
       "0  205606809              TEKNOPOLISCOLOMBIA   \n",
       "\n",
       "                                           permalink  \\\n",
       "0  http://perfil.mercadolibre.com.co/STREETGAMING...   \n",
       "0    http://perfil.mercadolibre.com.co/DRONES+LUXURY   \n",
       "0       http://perfil.mercadolibre.com.co/OFERTA+USA   \n",
       "0  http://perfil.mercadolibre.com.co/SUPERTECNOLO...   \n",
       "0  http://perfil.mercadolibre.com.co/TEKNOPOLISCO...   \n",
       "\n",
       "               registration_date       level_id power_seller_status  canceled  \\\n",
       "0  2018-05-21T04:53:05.000-04:00        5_green            platinum        65   \n",
       "0  2017-04-30T23:07:37.000-04:00        5_green            platinum       102   \n",
       "0  2004-10-05T20:08:36.000-04:00        5_green            platinum       169   \n",
       "0  2021-04-22T16:50:55.000-04:00  4_light_green                None        99   \n",
       "0  2016-02-10T10:10:34.000-04:00        5_green            platinum       491   \n",
       "\n",
       "   total  completed  negative  neutral  positive last_period  last_completed  \\\n",
       "0   1845       1780      0.00     0.00      1.00     60 days             313   \n",
       "0   3356       3254      0.01     0.01      0.98     60 days             746   \n",
       "0   6606       6437      0.02     0.01      0.97     60 days             790   \n",
       "0    936        837      0.05     0.05      0.90     60 days             162   \n",
       "0   6791       6300      0.04     0.04      0.92     60 days            1113   \n",
       "\n",
       "  binned  \n",
       "0      2  \n",
       "0      4  \n",
       "0      8  \n",
       "0      1  \n",
       "0      8  "
      ]
     },
     "execution_count": 157,
     "metadata": {},
     "output_type": "execute_result"
    }
   ],
   "source": [
    "labels = list(range(1, 11))\n",
    "prueba_subset.loc[:,'binned'] = pd.cut(prueba_subset['completed'], bins=bins, labels=labels)\n",
    "prueba_subset.head()"
   ]
  },
  {
   "cell_type": "code",
   "execution_count": 158,
   "id": "f3c6300c",
   "metadata": {},
   "outputs": [
    {
     "data": {
      "text/plain": [
       "[2, 4, 8, 1, 9, 3, 10, 5, 7, 6]\n",
       "Categories (10, int64): [1 < 2 < 3 < 4 ... 7 < 8 < 9 < 10]"
      ]
     },
     "execution_count": 158,
     "metadata": {},
     "output_type": "execute_result"
    }
   ],
   "source": [
    "prueba_subset['binned'].unique()"
   ]
  },
  {
   "cell_type": "code",
   "execution_count": 159,
   "id": "e8502376",
   "metadata": {},
   "outputs": [],
   "source": [
    "dict_level = {None:0, '1_red':1, '2_orange':2, '3_yellow':3,\n",
    "              '4_light_green': 4, '5_green':5}\n",
    "dict_powerss = {None:0, 'silver': 1, 'platinum': 2, 'gold': 3} \n",
    "dict_period = {'365 days': 1, '60 days': 2} "
   ]
  },
  {
   "cell_type": "code",
   "execution_count": 160,
   "id": "34176ab7",
   "metadata": {},
   "outputs": [
    {
     "data": {
      "text/html": [
       "<div>\n",
       "<style scoped>\n",
       "    .dataframe tbody tr th:only-of-type {\n",
       "        vertical-align: middle;\n",
       "    }\n",
       "\n",
       "    .dataframe tbody tr th {\n",
       "        vertical-align: top;\n",
       "    }\n",
       "\n",
       "    .dataframe thead th {\n",
       "        text-align: right;\n",
       "    }\n",
       "</style>\n",
       "<table border=\"1\" class=\"dataframe\">\n",
       "  <thead>\n",
       "    <tr style=\"text-align: right;\">\n",
       "      <th></th>\n",
       "      <th>id</th>\n",
       "      <th>nickname</th>\n",
       "      <th>permalink</th>\n",
       "      <th>registration_date</th>\n",
       "      <th>level_id</th>\n",
       "      <th>power_seller_status</th>\n",
       "      <th>canceled</th>\n",
       "      <th>total</th>\n",
       "      <th>completed</th>\n",
       "      <th>negative</th>\n",
       "      <th>neutral</th>\n",
       "      <th>positive</th>\n",
       "      <th>last_period</th>\n",
       "      <th>last_completed</th>\n",
       "      <th>binned</th>\n",
       "    </tr>\n",
       "  </thead>\n",
       "  <tbody>\n",
       "    <tr>\n",
       "      <th>0</th>\n",
       "      <td>323005693</td>\n",
       "      <td>STREETGAMINGSTORE</td>\n",
       "      <td>http://perfil.mercadolibre.com.co/STREETGAMING...</td>\n",
       "      <td>2018-05-21T04:53:05.000-04:00</td>\n",
       "      <td>5</td>\n",
       "      <td>2</td>\n",
       "      <td>65</td>\n",
       "      <td>1845</td>\n",
       "      <td>1780</td>\n",
       "      <td>0.00</td>\n",
       "      <td>0.00</td>\n",
       "      <td>1.00</td>\n",
       "      <td>2</td>\n",
       "      <td>313</td>\n",
       "      <td>2</td>\n",
       "    </tr>\n",
       "    <tr>\n",
       "      <th>0</th>\n",
       "      <td>254779222</td>\n",
       "      <td>DRONES LUXURY</td>\n",
       "      <td>http://perfil.mercadolibre.com.co/DRONES+LUXURY</td>\n",
       "      <td>2017-04-30T23:07:37.000-04:00</td>\n",
       "      <td>5</td>\n",
       "      <td>2</td>\n",
       "      <td>102</td>\n",
       "      <td>3356</td>\n",
       "      <td>3254</td>\n",
       "      <td>0.01</td>\n",
       "      <td>0.01</td>\n",
       "      <td>0.98</td>\n",
       "      <td>2</td>\n",
       "      <td>746</td>\n",
       "      <td>4</td>\n",
       "    </tr>\n",
       "  </tbody>\n",
       "</table>\n",
       "</div>"
      ],
      "text/plain": [
       "          id           nickname  \\\n",
       "0  323005693  STREETGAMINGSTORE   \n",
       "0  254779222      DRONES LUXURY   \n",
       "\n",
       "                                           permalink  \\\n",
       "0  http://perfil.mercadolibre.com.co/STREETGAMING...   \n",
       "0    http://perfil.mercadolibre.com.co/DRONES+LUXURY   \n",
       "\n",
       "               registration_date  level_id  power_seller_status  canceled  \\\n",
       "0  2018-05-21T04:53:05.000-04:00         5                    2        65   \n",
       "0  2017-04-30T23:07:37.000-04:00         5                    2       102   \n",
       "\n",
       "   total  completed  negative  neutral  positive  last_period  last_completed  \\\n",
       "0   1845       1780      0.00     0.00      1.00            2             313   \n",
       "0   3356       3254      0.01     0.01      0.98            2             746   \n",
       "\n",
       "  binned  \n",
       "0      2  \n",
       "0      4  "
      ]
     },
     "execution_count": 160,
     "metadata": {},
     "output_type": "execute_result"
    }
   ],
   "source": [
    "prueba_2 = prueba_subset.replace({\"level_id\": dict_level})\n",
    "prueba_2 = prueba_2.replace({\"power_seller_status\": dict_powerss})\n",
    "prueba_2 = prueba_2.replace({\"last_period\": dict_period})\n",
    "prueba_2.head(2)"
   ]
  },
  {
   "cell_type": "code",
   "execution_count": 161,
   "id": "f033313f",
   "metadata": {},
   "outputs": [
    {
     "data": {
      "text/html": [
       "<div>\n",
       "<style scoped>\n",
       "    .dataframe tbody tr th:only-of-type {\n",
       "        vertical-align: middle;\n",
       "    }\n",
       "\n",
       "    .dataframe tbody tr th {\n",
       "        vertical-align: top;\n",
       "    }\n",
       "\n",
       "    .dataframe thead th {\n",
       "        text-align: right;\n",
       "    }\n",
       "</style>\n",
       "<table border=\"1\" class=\"dataframe\">\n",
       "  <thead>\n",
       "    <tr style=\"text-align: right;\">\n",
       "      <th></th>\n",
       "      <th>level_id</th>\n",
       "      <th>power_seller_status</th>\n",
       "      <th>canceled</th>\n",
       "      <th>total</th>\n",
       "      <th>completed</th>\n",
       "      <th>negative</th>\n",
       "      <th>neutral</th>\n",
       "      <th>positive</th>\n",
       "      <th>last_period</th>\n",
       "      <th>last_completed</th>\n",
       "      <th>binned</th>\n",
       "    </tr>\n",
       "  </thead>\n",
       "  <tbody>\n",
       "    <tr>\n",
       "      <th>0</th>\n",
       "      <td>5</td>\n",
       "      <td>2</td>\n",
       "      <td>65</td>\n",
       "      <td>1845</td>\n",
       "      <td>1780</td>\n",
       "      <td>0.00</td>\n",
       "      <td>0.00</td>\n",
       "      <td>1.00</td>\n",
       "      <td>2</td>\n",
       "      <td>313</td>\n",
       "      <td>2</td>\n",
       "    </tr>\n",
       "    <tr>\n",
       "      <th>0</th>\n",
       "      <td>5</td>\n",
       "      <td>2</td>\n",
       "      <td>102</td>\n",
       "      <td>3356</td>\n",
       "      <td>3254</td>\n",
       "      <td>0.01</td>\n",
       "      <td>0.01</td>\n",
       "      <td>0.98</td>\n",
       "      <td>2</td>\n",
       "      <td>746</td>\n",
       "      <td>4</td>\n",
       "    </tr>\n",
       "    <tr>\n",
       "      <th>0</th>\n",
       "      <td>5</td>\n",
       "      <td>2</td>\n",
       "      <td>169</td>\n",
       "      <td>6606</td>\n",
       "      <td>6437</td>\n",
       "      <td>0.02</td>\n",
       "      <td>0.01</td>\n",
       "      <td>0.97</td>\n",
       "      <td>2</td>\n",
       "      <td>790</td>\n",
       "      <td>8</td>\n",
       "    </tr>\n",
       "    <tr>\n",
       "      <th>0</th>\n",
       "      <td>4</td>\n",
       "      <td>0</td>\n",
       "      <td>99</td>\n",
       "      <td>936</td>\n",
       "      <td>837</td>\n",
       "      <td>0.05</td>\n",
       "      <td>0.05</td>\n",
       "      <td>0.90</td>\n",
       "      <td>2</td>\n",
       "      <td>162</td>\n",
       "      <td>1</td>\n",
       "    </tr>\n",
       "    <tr>\n",
       "      <th>0</th>\n",
       "      <td>5</td>\n",
       "      <td>2</td>\n",
       "      <td>491</td>\n",
       "      <td>6791</td>\n",
       "      <td>6300</td>\n",
       "      <td>0.04</td>\n",
       "      <td>0.04</td>\n",
       "      <td>0.92</td>\n",
       "      <td>2</td>\n",
       "      <td>1113</td>\n",
       "      <td>8</td>\n",
       "    </tr>\n",
       "  </tbody>\n",
       "</table>\n",
       "</div>"
      ],
      "text/plain": [
       "   level_id  power_seller_status  canceled  total  completed  negative  \\\n",
       "0         5                    2        65   1845       1780      0.00   \n",
       "0         5                    2       102   3356       3254      0.01   \n",
       "0         5                    2       169   6606       6437      0.02   \n",
       "0         4                    0        99    936        837      0.05   \n",
       "0         5                    2       491   6791       6300      0.04   \n",
       "\n",
       "   neutral  positive  last_period  last_completed binned  \n",
       "0     0.00      1.00            2             313      2  \n",
       "0     0.01      0.98            2             746      4  \n",
       "0     0.01      0.97            2             790      8  \n",
       "0     0.05      0.90            2             162      1  \n",
       "0     0.04      0.92            2            1113      8  "
      ]
     },
     "execution_count": 161,
     "metadata": {},
     "output_type": "execute_result"
    }
   ],
   "source": [
    "df = prueba_2.iloc[:,4:]\n",
    "#df = df.drop(columns = \"completed\")\n",
    "df.head()"
   ]
  },
  {
   "cell_type": "code",
   "execution_count": 162,
   "id": "540a3859",
   "metadata": {
    "scrolled": false
   },
   "outputs": [
    {
     "data": {
      "text/html": [
       "<style  type=\"text/css\" >\n",
       "#T_46142_row0_col0,#T_46142_row1_col1,#T_46142_row2_col2,#T_46142_row3_col3,#T_46142_row3_col4,#T_46142_row4_col3,#T_46142_row4_col4,#T_46142_row5_col5,#T_46142_row6_col6,#T_46142_row7_col7,#T_46142_row8_col8,#T_46142_row9_col9{\n",
       "            background-color:  #b40426;\n",
       "            color:  #f1f1f1;\n",
       "        }#T_46142_row0_col1{\n",
       "            background-color:  #b3cdfb;\n",
       "            color:  #000000;\n",
       "        }#T_46142_row0_col2{\n",
       "            background-color:  #96b7ff;\n",
       "            color:  #000000;\n",
       "        }#T_46142_row0_col3,#T_46142_row1_col4{\n",
       "            background-color:  #7295f4;\n",
       "            color:  #000000;\n",
       "        }#T_46142_row0_col4{\n",
       "            background-color:  #6f92f3;\n",
       "            color:  #000000;\n",
       "        }#T_46142_row0_col5{\n",
       "            background-color:  #c9d7f0;\n",
       "            color:  #000000;\n",
       "        }#T_46142_row0_col6{\n",
       "            background-color:  #bad0f8;\n",
       "            color:  #000000;\n",
       "        }#T_46142_row0_col7,#T_46142_row4_col5{\n",
       "            background-color:  #e4d9d2;\n",
       "            color:  #000000;\n",
       "        }#T_46142_row0_col8{\n",
       "            background-color:  #4358cb;\n",
       "            color:  #f1f1f1;\n",
       "        }#T_46142_row0_col9,#T_46142_row1_col3{\n",
       "            background-color:  #7597f6;\n",
       "            color:  #000000;\n",
       "        }#T_46142_row1_col0{\n",
       "            background-color:  #c3d5f4;\n",
       "            color:  #000000;\n",
       "        }#T_46142_row1_col2,#T_46142_row8_col1{\n",
       "            background-color:  #94b6ff;\n",
       "            color:  #000000;\n",
       "        }#T_46142_row1_col5{\n",
       "            background-color:  #d5dbe5;\n",
       "            color:  #000000;\n",
       "        }#T_46142_row1_col6,#T_46142_row8_col6{\n",
       "            background-color:  #c7d7f0;\n",
       "            color:  #000000;\n",
       "        }#T_46142_row1_col7,#T_46142_row3_col6,#T_46142_row5_col2{\n",
       "            background-color:  #d8dce2;\n",
       "            color:  #000000;\n",
       "        }#T_46142_row1_col8{\n",
       "            background-color:  #9bbcff;\n",
       "            color:  #000000;\n",
       "        }#T_46142_row1_col9,#T_46142_row3_col0,#T_46142_row4_col0{\n",
       "            background-color:  #6a8bef;\n",
       "            color:  #000000;\n",
       "        }#T_46142_row2_col0,#T_46142_row2_col8{\n",
       "            background-color:  #6180e9;\n",
       "            color:  #000000;\n",
       "        }#T_46142_row2_col1{\n",
       "            background-color:  #4961d2;\n",
       "            color:  #f1f1f1;\n",
       "        }#T_46142_row2_col3{\n",
       "            background-color:  #e36b54;\n",
       "            color:  #000000;\n",
       "        }#T_46142_row2_col4{\n",
       "            background-color:  #e7745b;\n",
       "            color:  #000000;\n",
       "        }#T_46142_row2_col5{\n",
       "            background-color:  #f6bfa6;\n",
       "            color:  #000000;\n",
       "        }#T_46142_row2_col6,#T_46142_row9_col5{\n",
       "            background-color:  #e7d7ce;\n",
       "            color:  #000000;\n",
       "        }#T_46142_row2_col7{\n",
       "            background-color:  #a1c0ff;\n",
       "            color:  #000000;\n",
       "        }#T_46142_row2_col9{\n",
       "            background-color:  #f7ad90;\n",
       "            color:  #000000;\n",
       "        }#T_46142_row3_col1{\n",
       "            background-color:  #5673e0;\n",
       "            color:  #000000;\n",
       "        }#T_46142_row3_col2{\n",
       "            background-color:  #de614d;\n",
       "            color:  #000000;\n",
       "        }#T_46142_row3_col5{\n",
       "            background-color:  #e5d8d1;\n",
       "            color:  #000000;\n",
       "        }#T_46142_row3_col7,#T_46142_row6_col2,#T_46142_row9_col7{\n",
       "            background-color:  #c4d5f3;\n",
       "            color:  #000000;\n",
       "        }#T_46142_row3_col8,#T_46142_row4_col8{\n",
       "            background-color:  #6788ee;\n",
       "            color:  #000000;\n",
       "        }#T_46142_row3_col9,#T_46142_row4_col9,#T_46142_row9_col3,#T_46142_row9_col4{\n",
       "            background-color:  #e46e56;\n",
       "            color:  #000000;\n",
       "        }#T_46142_row4_col1{\n",
       "            background-color:  #5875e1;\n",
       "            color:  #000000;\n",
       "        }#T_46142_row4_col2{\n",
       "            background-color:  #e16751;\n",
       "            color:  #000000;\n",
       "        }#T_46142_row4_col6{\n",
       "            background-color:  #d7dce3;\n",
       "            color:  #000000;\n",
       "        }#T_46142_row4_col7{\n",
       "            background-color:  #c5d6f2;\n",
       "            color:  #000000;\n",
       "        }#T_46142_row5_col0,#T_46142_row5_col1,#T_46142_row5_col7,#T_46142_row7_col2,#T_46142_row7_col3,#T_46142_row7_col4,#T_46142_row7_col5,#T_46142_row7_col6,#T_46142_row7_col9,#T_46142_row9_col8{\n",
       "            background-color:  #3b4cc0;\n",
       "            color:  #f1f1f1;\n",
       "        }#T_46142_row5_col3,#T_46142_row8_col3{\n",
       "            background-color:  #7ea1fa;\n",
       "            color:  #000000;\n",
       "        }#T_46142_row5_col4,#T_46142_row6_col9{\n",
       "            background-color:  #779af7;\n",
       "            color:  #000000;\n",
       "        }#T_46142_row5_col6{\n",
       "            background-color:  #f5c2aa;\n",
       "            color:  #000000;\n",
       "        }#T_46142_row5_col8{\n",
       "            background-color:  #5470de;\n",
       "            color:  #000000;\n",
       "        }#T_46142_row5_col9,#T_46142_row6_col3{\n",
       "            background-color:  #81a4fb;\n",
       "            color:  #000000;\n",
       "        }#T_46142_row6_col0{\n",
       "            background-color:  #465ecf;\n",
       "            color:  #f1f1f1;\n",
       "        }#T_46142_row6_col1{\n",
       "            background-color:  #445acc;\n",
       "            color:  #f1f1f1;\n",
       "        }#T_46142_row6_col4{\n",
       "            background-color:  #7da0f9;\n",
       "            color:  #000000;\n",
       "        }#T_46142_row6_col5{\n",
       "            background-color:  #f7b599;\n",
       "            color:  #000000;\n",
       "        }#T_46142_row6_col7{\n",
       "            background-color:  #5d7ce6;\n",
       "            color:  #000000;\n",
       "        }#T_46142_row6_col8,#T_46142_row9_col1{\n",
       "            background-color:  #4c66d6;\n",
       "            color:  #000000;\n",
       "        }#T_46142_row7_col0{\n",
       "            background-color:  #7396f5;\n",
       "            color:  #000000;\n",
       "        }#T_46142_row7_col1{\n",
       "            background-color:  #4257c9;\n",
       "            color:  #f1f1f1;\n",
       "        }#T_46142_row7_col8{\n",
       "            background-color:  #3c4ec2;\n",
       "            color:  #f1f1f1;\n",
       "        }#T_46142_row8_col0{\n",
       "            background-color:  #516ddb;\n",
       "            color:  #000000;\n",
       "        }#T_46142_row8_col2{\n",
       "            background-color:  #a2c1ff;\n",
       "            color:  #000000;\n",
       "        }#T_46142_row8_col4{\n",
       "            background-color:  #7b9ff9;\n",
       "            color:  #000000;\n",
       "        }#T_46142_row8_col5{\n",
       "            background-color:  #dddcdc;\n",
       "            color:  #000000;\n",
       "        }#T_46142_row8_col7{\n",
       "            background-color:  #d2dbe8;\n",
       "            color:  #000000;\n",
       "        }#T_46142_row8_col9{\n",
       "            background-color:  #506bda;\n",
       "            color:  #000000;\n",
       "        }#T_46142_row9_col0{\n",
       "            background-color:  #6e90f2;\n",
       "            color:  #000000;\n",
       "        }#T_46142_row9_col2{\n",
       "            background-color:  #f59c7d;\n",
       "            color:  #000000;\n",
       "        }#T_46142_row9_col6{\n",
       "            background-color:  #d3dbe7;\n",
       "            color:  #000000;\n",
       "        }</style><table id=\"T_46142_\" ><thead>    <tr>        <th class=\"blank level0\" ></th>        <th class=\"col_heading level0 col0\" >level_id</th>        <th class=\"col_heading level0 col1\" >power_seller_status</th>        <th class=\"col_heading level0 col2\" >canceled</th>        <th class=\"col_heading level0 col3\" >total</th>        <th class=\"col_heading level0 col4\" >completed</th>        <th class=\"col_heading level0 col5\" >negative</th>        <th class=\"col_heading level0 col6\" >neutral</th>        <th class=\"col_heading level0 col7\" >positive</th>        <th class=\"col_heading level0 col8\" >last_period</th>        <th class=\"col_heading level0 col9\" >last_completed</th>    </tr></thead><tbody>\n",
       "                <tr>\n",
       "                        <th id=\"T_46142_level0_row0\" class=\"row_heading level0 row0\" >level_id</th>\n",
       "                        <td id=\"T_46142_row0_col0\" class=\"data row0 col0\" >1.000000</td>\n",
       "                        <td id=\"T_46142_row0_col1\" class=\"data row0 col1\" >0.350629</td>\n",
       "                        <td id=\"T_46142_row0_col2\" class=\"data row0 col2\" >0.037313</td>\n",
       "                        <td id=\"T_46142_row0_col3\" class=\"data row0 col3\" >0.065653</td>\n",
       "                        <td id=\"T_46142_row0_col4\" class=\"data row0 col4\" >0.066569</td>\n",
       "                        <td id=\"T_46142_row0_col5\" class=\"data row0 col5\" >-0.098104</td>\n",
       "                        <td id=\"T_46142_row0_col6\" class=\"data row0 col6\" >-0.053633</td>\n",
       "                        <td id=\"T_46142_row0_col7\" class=\"data row0 col7\" >0.097604</td>\n",
       "                        <td id=\"T_46142_row0_col8\" class=\"data row0 col8\" >-0.015401</td>\n",
       "                        <td id=\"T_46142_row0_col9\" class=\"data row0 col9\" >0.078465</td>\n",
       "            </tr>\n",
       "            <tr>\n",
       "                        <th id=\"T_46142_level0_row1\" class=\"row_heading level0 row1\" >power_seller_status</th>\n",
       "                        <td id=\"T_46142_row1_col0\" class=\"data row1 col0\" >0.350629</td>\n",
       "                        <td id=\"T_46142_row1_col1\" class=\"data row1 col1\" >1.000000</td>\n",
       "                        <td id=\"T_46142_row1_col2\" class=\"data row1 col2\" >0.031031</td>\n",
       "                        <td id=\"T_46142_row1_col3\" class=\"data row1 col3\" >0.076126</td>\n",
       "                        <td id=\"T_46142_row1_col4\" class=\"data row1 col4\" >0.077856</td>\n",
       "                        <td id=\"T_46142_row1_col5\" class=\"data row1 col5\" >-0.018520</td>\n",
       "                        <td id=\"T_46142_row1_col6\" class=\"data row1 col6\" >0.015730</td>\n",
       "                        <td id=\"T_46142_row1_col7\" class=\"data row1 col7\" >0.007562</td>\n",
       "                        <td id=\"T_46142_row1_col8\" class=\"data row1 col8\" >0.257733</td>\n",
       "                        <td id=\"T_46142_row1_col9\" class=\"data row1 col9\" >0.043770</td>\n",
       "            </tr>\n",
       "            <tr>\n",
       "                        <th id=\"T_46142_level0_row2\" class=\"row_heading level0 row2\" >canceled</th>\n",
       "                        <td id=\"T_46142_row2_col0\" class=\"data row2 col0\" >0.037313</td>\n",
       "                        <td id=\"T_46142_row2_col1\" class=\"data row2 col1\" >0.031031</td>\n",
       "                        <td id=\"T_46142_row2_col2\" class=\"data row2 col2\" >1.000000</td>\n",
       "                        <td id=\"T_46142_row2_col3\" class=\"data row2 col3\" >0.832264</td>\n",
       "                        <td id=\"T_46142_row2_col4\" class=\"data row2 col4\" >0.815102</td>\n",
       "                        <td id=\"T_46142_row2_col5\" class=\"data row2 col5\" >0.312010</td>\n",
       "                        <td id=\"T_46142_row2_col6\" class=\"data row2 col6\" >0.216979</td>\n",
       "                        <td id=\"T_46142_row2_col7\" class=\"data row2 col7\" >-0.329914</td>\n",
       "                        <td id=\"T_46142_row2_col8\" class=\"data row2 col8\" >0.085582</td>\n",
       "                        <td id=\"T_46142_row2_col9\" class=\"data row2 col9\" >0.659293</td>\n",
       "            </tr>\n",
       "            <tr>\n",
       "                        <th id=\"T_46142_level0_row3\" class=\"row_heading level0 row3\" >total</th>\n",
       "                        <td id=\"T_46142_row3_col0\" class=\"data row3 col0\" >0.065653</td>\n",
       "                        <td id=\"T_46142_row3_col1\" class=\"data row3 col1\" >0.076126</td>\n",
       "                        <td id=\"T_46142_row3_col2\" class=\"data row3 col2\" >0.832264</td>\n",
       "                        <td id=\"T_46142_row3_col3\" class=\"data row3 col3\" >1.000000</td>\n",
       "                        <td id=\"T_46142_row3_col4\" class=\"data row3 col4\" >0.999542</td>\n",
       "                        <td id=\"T_46142_row3_col5\" class=\"data row3 col5\" >0.106882</td>\n",
       "                        <td id=\"T_46142_row3_col6\" class=\"data row3 col6\" >0.116479</td>\n",
       "                        <td id=\"T_46142_row3_col7\" class=\"data row3 col7\" >-0.130726</td>\n",
       "                        <td id=\"T_46142_row3_col8\" class=\"data row3 col8\" >0.106236</td>\n",
       "                        <td id=\"T_46142_row3_col9\" class=\"data row3 col9\" >0.826117</td>\n",
       "            </tr>\n",
       "            <tr>\n",
       "                        <th id=\"T_46142_level0_row4\" class=\"row_heading level0 row4\" >completed</th>\n",
       "                        <td id=\"T_46142_row4_col0\" class=\"data row4 col0\" >0.066569</td>\n",
       "                        <td id=\"T_46142_row4_col1\" class=\"data row4 col1\" >0.077856</td>\n",
       "                        <td id=\"T_46142_row4_col2\" class=\"data row4 col2\" >0.815102</td>\n",
       "                        <td id=\"T_46142_row4_col3\" class=\"data row4 col3\" >0.999542</td>\n",
       "                        <td id=\"T_46142_row4_col4\" class=\"data row4 col4\" >1.000000</td>\n",
       "                        <td id=\"T_46142_row4_col5\" class=\"data row4 col5\" >0.094654</td>\n",
       "                        <td id=\"T_46142_row4_col6\" class=\"data row4 col6\" >0.109872</td>\n",
       "                        <td id=\"T_46142_row4_col7\" class=\"data row4 col7\" >-0.118593</td>\n",
       "                        <td id=\"T_46142_row4_col8\" class=\"data row4 col8\" >0.106342</td>\n",
       "                        <td id=\"T_46142_row4_col9\" class=\"data row4 col9\" >0.827282</td>\n",
       "            </tr>\n",
       "            <tr>\n",
       "                        <th id=\"T_46142_level0_row5\" class=\"row_heading level0 row5\" >negative</th>\n",
       "                        <td id=\"T_46142_row5_col0\" class=\"data row5 col0\" >-0.098104</td>\n",
       "                        <td id=\"T_46142_row5_col1\" class=\"data row5 col1\" >-0.018520</td>\n",
       "                        <td id=\"T_46142_row5_col2\" class=\"data row5 col2\" >0.312010</td>\n",
       "                        <td id=\"T_46142_row5_col3\" class=\"data row5 col3\" >0.106882</td>\n",
       "                        <td id=\"T_46142_row5_col4\" class=\"data row5 col4\" >0.094654</td>\n",
       "                        <td id=\"T_46142_row5_col5\" class=\"data row5 col5\" >1.000000</td>\n",
       "                        <td id=\"T_46142_row5_col6\" class=\"data row5 col6\" >0.370046</td>\n",
       "                        <td id=\"T_46142_row5_col7\" class=\"data row5 col7\" >-0.920673</td>\n",
       "                        <td id=\"T_46142_row5_col8\" class=\"data row5 col8\" >0.041674</td>\n",
       "                        <td id=\"T_46142_row5_col9\" class=\"data row5 col9\" >0.118511</td>\n",
       "            </tr>\n",
       "            <tr>\n",
       "                        <th id=\"T_46142_level0_row6\" class=\"row_heading level0 row6\" >neutral</th>\n",
       "                        <td id=\"T_46142_row6_col0\" class=\"data row6 col0\" >-0.053633</td>\n",
       "                        <td id=\"T_46142_row6_col1\" class=\"data row6 col1\" >0.015730</td>\n",
       "                        <td id=\"T_46142_row6_col2\" class=\"data row6 col2\" >0.216979</td>\n",
       "                        <td id=\"T_46142_row6_col3\" class=\"data row6 col3\" >0.116479</td>\n",
       "                        <td id=\"T_46142_row6_col4\" class=\"data row6 col4\" >0.109872</td>\n",
       "                        <td id=\"T_46142_row6_col5\" class=\"data row6 col5\" >0.370046</td>\n",
       "                        <td id=\"T_46142_row6_col6\" class=\"data row6 col6\" >1.000000</td>\n",
       "                        <td id=\"T_46142_row6_col7\" class=\"data row6 col7\" >-0.703318</td>\n",
       "                        <td id=\"T_46142_row6_col8\" class=\"data row6 col8\" >0.018361</td>\n",
       "                        <td id=\"T_46142_row6_col9\" class=\"data row6 col9\" >0.086125</td>\n",
       "            </tr>\n",
       "            <tr>\n",
       "                        <th id=\"T_46142_level0_row7\" class=\"row_heading level0 row7\" >positive</th>\n",
       "                        <td id=\"T_46142_row7_col0\" class=\"data row7 col0\" >0.097604</td>\n",
       "                        <td id=\"T_46142_row7_col1\" class=\"data row7 col1\" >0.007562</td>\n",
       "                        <td id=\"T_46142_row7_col2\" class=\"data row7 col2\" >-0.329914</td>\n",
       "                        <td id=\"T_46142_row7_col3\" class=\"data row7 col3\" >-0.130726</td>\n",
       "                        <td id=\"T_46142_row7_col4\" class=\"data row7 col4\" >-0.118593</td>\n",
       "                        <td id=\"T_46142_row7_col5\" class=\"data row7 col5\" >-0.920673</td>\n",
       "                        <td id=\"T_46142_row7_col6\" class=\"data row7 col6\" >-0.703318</td>\n",
       "                        <td id=\"T_46142_row7_col7\" class=\"data row7 col7\" >1.000000</td>\n",
       "                        <td id=\"T_46142_row7_col8\" class=\"data row7 col8\" >-0.039603</td>\n",
       "                        <td id=\"T_46142_row7_col9\" class=\"data row7 col9\" >-0.126870</td>\n",
       "            </tr>\n",
       "            <tr>\n",
       "                        <th id=\"T_46142_level0_row8\" class=\"row_heading level0 row8\" >last_period</th>\n",
       "                        <td id=\"T_46142_row8_col0\" class=\"data row8 col0\" >-0.015401</td>\n",
       "                        <td id=\"T_46142_row8_col1\" class=\"data row8 col1\" >0.257733</td>\n",
       "                        <td id=\"T_46142_row8_col2\" class=\"data row8 col2\" >0.085582</td>\n",
       "                        <td id=\"T_46142_row8_col3\" class=\"data row8 col3\" >0.106236</td>\n",
       "                        <td id=\"T_46142_row8_col4\" class=\"data row8 col4\" >0.106342</td>\n",
       "                        <td id=\"T_46142_row8_col5\" class=\"data row8 col5\" >0.041674</td>\n",
       "                        <td id=\"T_46142_row8_col6\" class=\"data row8 col6\" >0.018361</td>\n",
       "                        <td id=\"T_46142_row8_col7\" class=\"data row8 col7\" >-0.039603</td>\n",
       "                        <td id=\"T_46142_row8_col8\" class=\"data row8 col8\" >1.000000</td>\n",
       "                        <td id=\"T_46142_row8_col9\" class=\"data row8 col9\" >-0.044217</td>\n",
       "            </tr>\n",
       "            <tr>\n",
       "                        <th id=\"T_46142_level0_row9\" class=\"row_heading level0 row9\" >last_completed</th>\n",
       "                        <td id=\"T_46142_row9_col0\" class=\"data row9 col0\" >0.078465</td>\n",
       "                        <td id=\"T_46142_row9_col1\" class=\"data row9 col1\" >0.043770</td>\n",
       "                        <td id=\"T_46142_row9_col2\" class=\"data row9 col2\" >0.659293</td>\n",
       "                        <td id=\"T_46142_row9_col3\" class=\"data row9 col3\" >0.826117</td>\n",
       "                        <td id=\"T_46142_row9_col4\" class=\"data row9 col4\" >0.827282</td>\n",
       "                        <td id=\"T_46142_row9_col5\" class=\"data row9 col5\" >0.118511</td>\n",
       "                        <td id=\"T_46142_row9_col6\" class=\"data row9 col6\" >0.086125</td>\n",
       "                        <td id=\"T_46142_row9_col7\" class=\"data row9 col7\" >-0.126870</td>\n",
       "                        <td id=\"T_46142_row9_col8\" class=\"data row9 col8\" >-0.044217</td>\n",
       "                        <td id=\"T_46142_row9_col9\" class=\"data row9 col9\" >1.000000</td>\n",
       "            </tr>\n",
       "    </tbody></table>"
      ],
      "text/plain": [
       "<pandas.io.formats.style.Styler at 0x7fe490c112e0>"
      ]
     },
     "execution_count": 162,
     "metadata": {},
     "output_type": "execute_result"
    }
   ],
   "source": [
    "corr = df.corr()\n",
    "corr.style.background_gradient(cmap='coolwarm')"
   ]
  },
  {
   "cell_type": "code",
   "execution_count": 163,
   "id": "f0374245",
   "metadata": {},
   "outputs": [
    {
     "data": {
      "text/html": [
       "<div>\n",
       "<style scoped>\n",
       "    .dataframe tbody tr th:only-of-type {\n",
       "        vertical-align: middle;\n",
       "    }\n",
       "\n",
       "    .dataframe tbody tr th {\n",
       "        vertical-align: top;\n",
       "    }\n",
       "\n",
       "    .dataframe thead th {\n",
       "        text-align: right;\n",
       "    }\n",
       "</style>\n",
       "<table border=\"1\" class=\"dataframe\">\n",
       "  <thead>\n",
       "    <tr style=\"text-align: right;\">\n",
       "      <th></th>\n",
       "      <th>level_id</th>\n",
       "      <th>power_seller_status</th>\n",
       "      <th>canceled</th>\n",
       "      <th>neutral</th>\n",
       "      <th>positive</th>\n",
       "      <th>last_period</th>\n",
       "      <th>last_completed</th>\n",
       "      <th>binned</th>\n",
       "    </tr>\n",
       "  </thead>\n",
       "  <tbody>\n",
       "    <tr>\n",
       "      <th>0</th>\n",
       "      <td>5</td>\n",
       "      <td>2</td>\n",
       "      <td>65</td>\n",
       "      <td>0.00</td>\n",
       "      <td>1.00</td>\n",
       "      <td>2</td>\n",
       "      <td>313</td>\n",
       "      <td>2</td>\n",
       "    </tr>\n",
       "    <tr>\n",
       "      <th>0</th>\n",
       "      <td>5</td>\n",
       "      <td>2</td>\n",
       "      <td>102</td>\n",
       "      <td>0.01</td>\n",
       "      <td>0.98</td>\n",
       "      <td>2</td>\n",
       "      <td>746</td>\n",
       "      <td>4</td>\n",
       "    </tr>\n",
       "    <tr>\n",
       "      <th>0</th>\n",
       "      <td>5</td>\n",
       "      <td>2</td>\n",
       "      <td>169</td>\n",
       "      <td>0.01</td>\n",
       "      <td>0.97</td>\n",
       "      <td>2</td>\n",
       "      <td>790</td>\n",
       "      <td>8</td>\n",
       "    </tr>\n",
       "    <tr>\n",
       "      <th>0</th>\n",
       "      <td>4</td>\n",
       "      <td>0</td>\n",
       "      <td>99</td>\n",
       "      <td>0.05</td>\n",
       "      <td>0.90</td>\n",
       "      <td>2</td>\n",
       "      <td>162</td>\n",
       "      <td>1</td>\n",
       "    </tr>\n",
       "    <tr>\n",
       "      <th>0</th>\n",
       "      <td>5</td>\n",
       "      <td>2</td>\n",
       "      <td>491</td>\n",
       "      <td>0.04</td>\n",
       "      <td>0.92</td>\n",
       "      <td>2</td>\n",
       "      <td>1113</td>\n",
       "      <td>8</td>\n",
       "    </tr>\n",
       "  </tbody>\n",
       "</table>\n",
       "</div>"
      ],
      "text/plain": [
       "   level_id  power_seller_status  canceled  neutral  positive  last_period  \\\n",
       "0         5                    2        65     0.00      1.00            2   \n",
       "0         5                    2       102     0.01      0.98            2   \n",
       "0         5                    2       169     0.01      0.97            2   \n",
       "0         4                    0        99     0.05      0.90            2   \n",
       "0         5                    2       491     0.04      0.92            2   \n",
       "\n",
       "   last_completed binned  \n",
       "0             313      2  \n",
       "0             746      4  \n",
       "0             790      8  \n",
       "0             162      1  \n",
       "0            1113      8  "
      ]
     },
     "execution_count": 163,
     "metadata": {},
     "output_type": "execute_result"
    }
   ],
   "source": [
    "df = df.drop(columns = [\"completed\", \"total\", \"negative\"])\n",
    "df.head()"
   ]
  },
  {
   "cell_type": "markdown",
   "id": "704adaf7",
   "metadata": {},
   "source": [
    "## 3. Modelo"
   ]
  },
  {
   "cell_type": "markdown",
   "id": "5ff3e38c",
   "metadata": {},
   "source": [
    "## Training y test"
   ]
  },
  {
   "cell_type": "code",
   "execution_count": 164,
   "id": "56928c3b",
   "metadata": {},
   "outputs": [
    {
     "data": {
      "text/plain": [
       "level_id               0\n",
       "power_seller_status    0\n",
       "canceled               0\n",
       "neutral                0\n",
       "positive               0\n",
       "last_period            0\n",
       "last_completed         0\n",
       "binned                 0\n",
       "dtype: int64"
      ]
     },
     "execution_count": 164,
     "metadata": {},
     "output_type": "execute_result"
    }
   ],
   "source": [
    "df.isna().sum()"
   ]
  },
  {
   "cell_type": "code",
   "execution_count": 165,
   "id": "a7a4550a",
   "metadata": {},
   "outputs": [
    {
     "data": {
      "text/html": [
       "<div>\n",
       "<style scoped>\n",
       "    .dataframe tbody tr th:only-of-type {\n",
       "        vertical-align: middle;\n",
       "    }\n",
       "\n",
       "    .dataframe tbody tr th {\n",
       "        vertical-align: top;\n",
       "    }\n",
       "\n",
       "    .dataframe thead th {\n",
       "        text-align: right;\n",
       "    }\n",
       "</style>\n",
       "<table border=\"1\" class=\"dataframe\">\n",
       "  <thead>\n",
       "    <tr style=\"text-align: right;\">\n",
       "      <th></th>\n",
       "      <th>level_id</th>\n",
       "      <th>power_seller_status</th>\n",
       "      <th>canceled</th>\n",
       "      <th>neutral</th>\n",
       "      <th>positive</th>\n",
       "      <th>last_period</th>\n",
       "      <th>last_completed</th>\n",
       "    </tr>\n",
       "  </thead>\n",
       "  <tbody>\n",
       "    <tr>\n",
       "      <th>0</th>\n",
       "      <td>5</td>\n",
       "      <td>2</td>\n",
       "      <td>65</td>\n",
       "      <td>0.00</td>\n",
       "      <td>1.00</td>\n",
       "      <td>2</td>\n",
       "      <td>313</td>\n",
       "    </tr>\n",
       "    <tr>\n",
       "      <th>0</th>\n",
       "      <td>5</td>\n",
       "      <td>2</td>\n",
       "      <td>102</td>\n",
       "      <td>0.01</td>\n",
       "      <td>0.98</td>\n",
       "      <td>2</td>\n",
       "      <td>746</td>\n",
       "    </tr>\n",
       "  </tbody>\n",
       "</table>\n",
       "</div>"
      ],
      "text/plain": [
       "   level_id  power_seller_status  canceled  neutral  positive  last_period  \\\n",
       "0         5                    2        65     0.00      1.00            2   \n",
       "0         5                    2       102     0.01      0.98            2   \n",
       "\n",
       "   last_completed  \n",
       "0             313  \n",
       "0             746  "
      ]
     },
     "execution_count": 165,
     "metadata": {},
     "output_type": "execute_result"
    }
   ],
   "source": [
    "y = df[\"binned\"]\n",
    "x = df.drop(columns = \"binned\")\n",
    "x.head(2)"
   ]
  },
  {
   "cell_type": "code",
   "execution_count": 166,
   "id": "8321a2ea",
   "metadata": {},
   "outputs": [],
   "source": [
    "x_train, x_test, y_train, y_test = train_test_split(x, y, test_size=0.10)"
   ]
  },
  {
   "cell_type": "code",
   "execution_count": 167,
   "id": "e0f72c29",
   "metadata": {},
   "outputs": [
    {
     "data": {
      "text/plain": [
       "482"
      ]
     },
     "execution_count": 167,
     "metadata": {},
     "output_type": "execute_result"
    }
   ],
   "source": [
    "len(y_train)"
   ]
  },
  {
   "cell_type": "code",
   "execution_count": 168,
   "id": "9a49ed80",
   "metadata": {},
   "outputs": [
    {
     "data": {
      "text/plain": [
       "54"
      ]
     },
     "execution_count": 168,
     "metadata": {},
     "output_type": "execute_result"
    }
   ],
   "source": [
    "len(y_test)"
   ]
  },
  {
   "cell_type": "markdown",
   "id": "658210f9",
   "metadata": {},
   "source": [
    "## Ridge classifier"
   ]
  },
  {
   "cell_type": "code",
   "execution_count": 169,
   "id": "834209d3",
   "metadata": {},
   "outputs": [],
   "source": [
    "scaler = StandardScaler()"
   ]
  },
  {
   "cell_type": "code",
   "execution_count": 170,
   "id": "956e335e",
   "metadata": {},
   "outputs": [
    {
     "data": {
      "text/html": [
       "<div>\n",
       "<style scoped>\n",
       "    .dataframe tbody tr th:only-of-type {\n",
       "        vertical-align: middle;\n",
       "    }\n",
       "\n",
       "    .dataframe tbody tr th {\n",
       "        vertical-align: top;\n",
       "    }\n",
       "\n",
       "    .dataframe thead th {\n",
       "        text-align: right;\n",
       "    }\n",
       "</style>\n",
       "<table border=\"1\" class=\"dataframe\">\n",
       "  <thead>\n",
       "    <tr style=\"text-align: right;\">\n",
       "      <th></th>\n",
       "      <th>level_id</th>\n",
       "      <th>power_seller_status</th>\n",
       "      <th>canceled</th>\n",
       "      <th>neutral</th>\n",
       "      <th>positive</th>\n",
       "      <th>last_period</th>\n",
       "      <th>last_completed</th>\n",
       "    </tr>\n",
       "  </thead>\n",
       "  <tbody>\n",
       "    <tr>\n",
       "      <th>0</th>\n",
       "      <td>5</td>\n",
       "      <td>2</td>\n",
       "      <td>313</td>\n",
       "      <td>0.03</td>\n",
       "      <td>0.93</td>\n",
       "      <td>2</td>\n",
       "      <td>1460</td>\n",
       "    </tr>\n",
       "    <tr>\n",
       "      <th>0</th>\n",
       "      <td>5</td>\n",
       "      <td>3</td>\n",
       "      <td>20</td>\n",
       "      <td>0.02</td>\n",
       "      <td>0.92</td>\n",
       "      <td>2</td>\n",
       "      <td>255</td>\n",
       "    </tr>\n",
       "  </tbody>\n",
       "</table>\n",
       "</div>"
      ],
      "text/plain": [
       "   level_id  power_seller_status  canceled  neutral  positive  last_period  \\\n",
       "0         5                    2       313     0.03      0.93            2   \n",
       "0         5                    3        20     0.02      0.92            2   \n",
       "\n",
       "   last_completed  \n",
       "0            1460  \n",
       "0             255  "
      ]
     },
     "execution_count": 170,
     "metadata": {},
     "output_type": "execute_result"
    }
   ],
   "source": [
    "x_train.head(2)"
   ]
  },
  {
   "cell_type": "code",
   "execution_count": 171,
   "id": "8235df2f",
   "metadata": {},
   "outputs": [],
   "source": [
    "x_train_s = scaler.fit_transform(x_train)\n",
    "x_test_s = scaler.transform(x_test)"
   ]
  },
  {
   "cell_type": "code",
   "execution_count": 172,
   "id": "f7b3e751",
   "metadata": {},
   "outputs": [],
   "source": [
    "rgc = RidgeClassifier(alpha=100, random_state=42)"
   ]
  },
  {
   "cell_type": "code",
   "execution_count": 173,
   "id": "a8455d50",
   "metadata": {},
   "outputs": [
    {
     "data": {
      "text/plain": [
       "RidgeClassifier(alpha=100, random_state=42)"
      ]
     },
     "execution_count": 173,
     "metadata": {},
     "output_type": "execute_result"
    }
   ],
   "source": [
    "rgc.fit(x_train_s,y_train)"
   ]
  },
  {
   "cell_type": "code",
   "execution_count": 174,
   "id": "3b4ec682",
   "metadata": {},
   "outputs": [],
   "source": [
    "y_pred_rgc = rgc.predict(x_test_s)"
   ]
  },
  {
   "cell_type": "code",
   "execution_count": 175,
   "id": "f68800eb",
   "metadata": {},
   "outputs": [
    {
     "data": {
      "text/plain": [
       "0.37037037037037035"
      ]
     },
     "execution_count": 175,
     "metadata": {},
     "output_type": "execute_result"
    }
   ],
   "source": [
    "rgc.score(x_test_s, y_test)"
   ]
  },
  {
   "cell_type": "code",
   "execution_count": 176,
   "id": "7ea35710",
   "metadata": {},
   "outputs": [],
   "source": [
    "from sklearn.metrics import accuracy_score"
   ]
  },
  {
   "cell_type": "code",
   "execution_count": 177,
   "id": "872432a4",
   "metadata": {},
   "outputs": [
    {
     "data": {
      "text/plain": [
       "0.37037037037037035"
      ]
     },
     "execution_count": 177,
     "metadata": {},
     "output_type": "execute_result"
    }
   ],
   "source": [
    "accuracy_score(y_test, y_pred_rgc)"
   ]
  },
  {
   "cell_type": "code",
   "execution_count": 119,
   "id": "8b4b23aa",
   "metadata": {},
   "outputs": [],
   "source": [
    "#print(f'Decision tree clasifier: {round(rfc.score(x_test, y_test)*100,0)}%')"
   ]
  },
  {
   "cell_type": "code",
   "execution_count": 179,
   "id": "d4682d7a",
   "metadata": {},
   "outputs": [],
   "source": [
    "import statistics"
   ]
  },
  {
   "cell_type": "code",
   "execution_count": 180,
   "id": "0137ae36",
   "metadata": {},
   "outputs": [
    {
     "data": {
      "text/plain": [
       "1"
      ]
     },
     "execution_count": 180,
     "metadata": {},
     "output_type": "execute_result"
    }
   ],
   "source": [
    "statistics.mode(df['binned'])\n",
    "statistics.mode(y_train)"
   ]
  },
  {
   "cell_type": "code",
   "execution_count": 181,
   "id": "8cb31022",
   "metadata": {},
   "outputs": [],
   "source": [
    "from sklearn.metrics import accuracy_score"
   ]
  },
  {
   "cell_type": "code",
   "execution_count": 182,
   "id": "b2d48507",
   "metadata": {},
   "outputs": [],
   "source": [
    "guess = statistics.mode(y_train)\n",
    "y_pred_base = [guess]*len(y_test)"
   ]
  },
  {
   "cell_type": "code",
   "execution_count": 183,
   "id": "2e42f296",
   "metadata": {},
   "outputs": [
    {
     "name": "stdout",
     "output_type": "stream",
     "text": [
      "Baseline accuracy score 31.0\n"
     ]
    }
   ],
   "source": [
    "score = accuracy_score(y_test, y_pred_base)\n",
    "print(f'Baseline accuracy score {round(score*100, 0)}' )"
   ]
  },
  {
   "cell_type": "markdown",
   "id": "cc74f9ac",
   "metadata": {},
   "source": [
    "## Random Forest Classifier"
   ]
  },
  {
   "cell_type": "code",
   "execution_count": 184,
   "id": "5cc905ba",
   "metadata": {},
   "outputs": [
    {
     "data": {
      "text/plain": [
       "0    7\n",
       "0    1\n",
       "0    3\n",
       "0    1\n",
       "0    8\n",
       "Name: binned, dtype: category\n",
       "Categories (10, int64): [1 < 2 < 3 < 4 ... 7 < 8 < 9 < 10]"
      ]
     },
     "execution_count": 184,
     "metadata": {},
     "output_type": "execute_result"
    }
   ],
   "source": [
    "y_train[:5]"
   ]
  },
  {
   "cell_type": "code",
   "execution_count": 185,
   "id": "ed822dd2",
   "metadata": {},
   "outputs": [],
   "source": [
    "from sklearn.ensemble import RandomForestClassifier"
   ]
  },
  {
   "cell_type": "code",
   "execution_count": 186,
   "id": "dd1aed45",
   "metadata": {},
   "outputs": [],
   "source": [
    "rfc = RandomForestClassifier(random_state = 42)"
   ]
  },
  {
   "cell_type": "code",
   "execution_count": 187,
   "id": "32827993",
   "metadata": {},
   "outputs": [
    {
     "data": {
      "text/plain": [
       "RandomForestClassifier(random_state=42)"
      ]
     },
     "execution_count": 187,
     "metadata": {},
     "output_type": "execute_result"
    }
   ],
   "source": [
    "rfc.fit(x_train, y_train)"
   ]
  },
  {
   "cell_type": "code",
   "execution_count": 188,
   "id": "1d6ff245",
   "metadata": {},
   "outputs": [
    {
     "data": {
      "text/plain": [
       "array([1, 1, 4, 5, 1])"
      ]
     },
     "execution_count": 188,
     "metadata": {},
     "output_type": "execute_result"
    }
   ],
   "source": [
    "y_pred_rfc = rfc.predict(x_test)\n",
    "y_pred_rfc[:5]"
   ]
  },
  {
   "cell_type": "code",
   "execution_count": 189,
   "id": "14a1c4d0",
   "metadata": {},
   "outputs": [
    {
     "data": {
      "text/plain": [
       "0.5740740740740741"
      ]
     },
     "execution_count": 189,
     "metadata": {},
     "output_type": "execute_result"
    }
   ],
   "source": [
    "rfc.score(x_test, y_test)"
   ]
  },
  {
   "cell_type": "code",
   "execution_count": 190,
   "id": "654aece4",
   "metadata": {},
   "outputs": [
    {
     "data": {
      "text/plain": [
       "0.5740740740740741"
      ]
     },
     "execution_count": 190,
     "metadata": {},
     "output_type": "execute_result"
    }
   ],
   "source": [
    "accuracy_score(y_test, y_pred_rfc)"
   ]
  },
  {
   "cell_type": "code",
   "execution_count": 191,
   "id": "50e1cbbc",
   "metadata": {},
   "outputs": [
    {
     "data": {
      "text/plain": [
       "array([0.00537761, 0.05702671, 0.36320164, 0.08615627, 0.14037002,\n",
       "       0.00520864, 0.34265912])"
      ]
     },
     "execution_count": 191,
     "metadata": {},
     "output_type": "execute_result"
    }
   ],
   "source": [
    "rfc.feature_importances_"
   ]
  }
 ],
 "metadata": {
  "kernelspec": {
   "display_name": "Python 3",
   "language": "python",
   "name": "python3"
  },
  "language_info": {
   "codemirror_mode": {
    "name": "ipython",
    "version": 3
   },
   "file_extension": ".py",
   "mimetype": "text/x-python",
   "name": "python",
   "nbconvert_exporter": "python",
   "pygments_lexer": "ipython3",
   "version": "3.8.8"
  }
 },
 "nbformat": 4,
 "nbformat_minor": 5
}
