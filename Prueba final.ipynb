{
 "cells": [
  {
   "cell_type": "markdown",
   "id": "5fe540fc",
   "metadata": {},
   "source": [
    "<p style=\"font-family: Arial; font-size:3.75vw;color:purple; font-style:bold\"><br>\n",
    "Prueba meli\n",
    "</p><br>"
   ]
  },
  {
   "cell_type": "markdown",
   "id": "49fa3b0b",
   "metadata": {},
   "source": [
    "<p style=\"font-family: Arial; font-size:1.75em;color:#2462C0; font-style:bold\">\n",
    "Identificación de vendedores relevantes para el negocio </p>\n"
   ]
  },
  {
   "cell_type": "markdown",
   "id": "212a7b5d",
   "metadata": {},
   "source": [
    "## 1. Recolección de Información"
   ]
  },
  {
   "cell_type": "code",
   "execution_count": 99,
   "id": "c6b3da32",
   "metadata": {},
   "outputs": [],
   "source": [
    "import requests\n",
    "import pandas as pd\n",
    "import numpy as np\n",
    "import json\n",
    "import matplotlib.pyplot as plt\n",
    "import datetime\n",
    "#from sklearn.datasets import make_blobs\n",
    "from sklearn import preprocessing\n",
    "from sklearn_extra.cluster import KMedoids\n",
    "from sklearn.cluster import KMeans\n",
    "from sklearn.model_selection import train_test_split\n",
    "from sklearn.linear_model import RidgeClassifier\n",
    "from sklearn.preprocessing import StandardScaler\n",
    "from sklearn.metrics import silhouette_score, adjusted_mutual_info_score, adjusted_rand_score, calinski_harabasz_score, davies_bouldin_score\n",
    "import gower\n",
    "import umap\n",
    "import plotnine as p9\n",
    "\n"
   ]
  },
  {
   "cell_type": "code",
   "execution_count": 2,
   "id": "d9eb307d",
   "metadata": {},
   "outputs": [
    {
     "data": {
      "text/html": [
       "<div>\n",
       "<style scoped>\n",
       "    .dataframe tbody tr th:only-of-type {\n",
       "        vertical-align: middle;\n",
       "    }\n",
       "\n",
       "    .dataframe tbody tr th {\n",
       "        vertical-align: top;\n",
       "    }\n",
       "\n",
       "    .dataframe thead th {\n",
       "        text-align: right;\n",
       "    }\n",
       "</style>\n",
       "<table border=\"1\" class=\"dataframe\">\n",
       "  <thead>\n",
       "    <tr style=\"text-align: right;\">\n",
       "      <th></th>\n",
       "      <th>id</th>\n",
       "      <th>name</th>\n",
       "    </tr>\n",
       "  </thead>\n",
       "  <tbody>\n",
       "    <tr>\n",
       "      <th>0</th>\n",
       "      <td>MCO1747</td>\n",
       "      <td>Accesorios para Vehículos</td>\n",
       "    </tr>\n",
       "    <tr>\n",
       "      <th>1</th>\n",
       "      <td>MCO441917</td>\n",
       "      <td>Agro</td>\n",
       "    </tr>\n",
       "    <tr>\n",
       "      <th>2</th>\n",
       "      <td>MCO1403</td>\n",
       "      <td>Alimentos y Bebidas</td>\n",
       "    </tr>\n",
       "    <tr>\n",
       "      <th>3</th>\n",
       "      <td>MCO1071</td>\n",
       "      <td>Animales y Mascotas</td>\n",
       "    </tr>\n",
       "    <tr>\n",
       "      <th>4</th>\n",
       "      <td>MCO1367</td>\n",
       "      <td>Antigüedades y Colecciones</td>\n",
       "    </tr>\n",
       "  </tbody>\n",
       "</table>\n",
       "</div>"
      ],
      "text/plain": [
       "          id                        name\n",
       "0    MCO1747   Accesorios para Vehículos\n",
       "1  MCO441917                        Agro\n",
       "2    MCO1403         Alimentos y Bebidas\n",
       "3    MCO1071         Animales y Mascotas\n",
       "4    MCO1367  Antigüedades y Colecciones"
      ]
     },
     "execution_count": 2,
     "metadata": {},
     "output_type": "execute_result"
    }
   ],
   "source": [
    "#categorías de meli en Colombia\n",
    "cats = requests.get('https://api.mercadolibre.com/sites/MCO/categories')\n",
    "prueba = cats.json()\n",
    "df = pd.DataFrame(prueba)\n",
    "df.head()"
   ]
  },
  {
   "cell_type": "code",
   "execution_count": 3,
   "id": "d6061f08",
   "metadata": {},
   "outputs": [],
   "source": [
    "# Se trae la información de los primeros 1000 items de cada categoría listada en 'cats'\n",
    "# MCO1039 camaras y accesorios\n",
    "# MCO1648 computacion\n",
    "# MCO1000 Electrónica, Audio y Video\n",
    "\n",
    "cats = ['MCO1000', 'MCO1039', 'MCO1648']\n",
    "list_offset = [i*50 for i in range(0,20)]\n",
    "\n",
    "df_cats = pd.DataFrame()\n",
    "\n",
    "for cat_id in cats:\n",
    "    \n",
    "    df_item = pd.DataFrame()\n",
    "    for offset in list_offset:\n",
    "        url = f'https://api.mercadolibre.com/sites/MCO/search?category={cat_id}&offset={offset}'\n",
    "        request = requests.get(url)\n",
    "        item = request.json()\n",
    "        df = pd.DataFrame(item['results'])\n",
    "        df_item = df_item.append(df)\n",
    "    df_cats = df_cats.append(df_item)"
   ]
  },
  {
   "cell_type": "code",
   "execution_count": 4,
   "id": "1bb15cfd",
   "metadata": {},
   "outputs": [
    {
     "data": {
      "text/html": [
       "<div>\n",
       "<style scoped>\n",
       "    .dataframe tbody tr th:only-of-type {\n",
       "        vertical-align: middle;\n",
       "    }\n",
       "\n",
       "    .dataframe tbody tr th {\n",
       "        vertical-align: top;\n",
       "    }\n",
       "\n",
       "    .dataframe thead th {\n",
       "        text-align: right;\n",
       "    }\n",
       "</style>\n",
       "<table border=\"1\" class=\"dataframe\">\n",
       "  <thead>\n",
       "    <tr style=\"text-align: right;\">\n",
       "      <th></th>\n",
       "      <th>id</th>\n",
       "      <th>site_id</th>\n",
       "      <th>title</th>\n",
       "      <th>seller</th>\n",
       "      <th>price</th>\n",
       "      <th>prices</th>\n",
       "      <th>sale_price</th>\n",
       "      <th>currency_id</th>\n",
       "      <th>available_quantity</th>\n",
       "      <th>sold_quantity</th>\n",
       "      <th>...</th>\n",
       "      <th>tags</th>\n",
       "      <th>catalog_listing</th>\n",
       "      <th>use_thumbnail_id</th>\n",
       "      <th>offer_score</th>\n",
       "      <th>offer_share</th>\n",
       "      <th>match_score</th>\n",
       "      <th>winner_item_id</th>\n",
       "      <th>melicoin</th>\n",
       "      <th>order_backend</th>\n",
       "      <th>differential_pricing</th>\n",
       "    </tr>\n",
       "  </thead>\n",
       "  <tbody>\n",
       "    <tr>\n",
       "      <th>0</th>\n",
       "      <td>MCO618049088</td>\n",
       "      <td>MCO</td>\n",
       "      <td>Audífonos Sony Zx Series Mdr-zx110 Negro</td>\n",
       "      <td>{'id': 168810672, 'permalink': None, 'registra...</td>\n",
       "      <td>39900</td>\n",
       "      <td>{'id': 'MCO618049088', 'prices': [{'id': '1', ...</td>\n",
       "      <td>None</td>\n",
       "      <td>COP</td>\n",
       "      <td>240</td>\n",
       "      <td>2054</td>\n",
       "      <td>...</td>\n",
       "      <td>[loyalty_discount_eligible, good_quality_pictu...</td>\n",
       "      <td>True</td>\n",
       "      <td>True</td>\n",
       "      <td>None</td>\n",
       "      <td>None</td>\n",
       "      <td>None</td>\n",
       "      <td>None</td>\n",
       "      <td>None</td>\n",
       "      <td>1</td>\n",
       "      <td>NaN</td>\n",
       "    </tr>\n",
       "    <tr>\n",
       "      <th>1</th>\n",
       "      <td>MCO627599757</td>\n",
       "      <td>MCO</td>\n",
       "      <td>Mini Drone Dji Mavic Mini 2 Drdji018 Fly More ...</td>\n",
       "      <td>{'id': 394887418, 'permalink': None, 'registra...</td>\n",
       "      <td>2819900</td>\n",
       "      <td>{'id': 'MCO627599757', 'prices': [{'id': '25',...</td>\n",
       "      <td>None</td>\n",
       "      <td>COP</td>\n",
       "      <td>13</td>\n",
       "      <td>493</td>\n",
       "      <td>...</td>\n",
       "      <td>[good_quality_picture, immediate_payment, cart...</td>\n",
       "      <td>True</td>\n",
       "      <td>True</td>\n",
       "      <td>None</td>\n",
       "      <td>None</td>\n",
       "      <td>None</td>\n",
       "      <td>None</td>\n",
       "      <td>None</td>\n",
       "      <td>2</td>\n",
       "      <td>NaN</td>\n",
       "    </tr>\n",
       "  </tbody>\n",
       "</table>\n",
       "<p>2 rows × 38 columns</p>\n",
       "</div>"
      ],
      "text/plain": [
       "             id site_id                                              title  \\\n",
       "0  MCO618049088     MCO           Audífonos Sony Zx Series Mdr-zx110 Negro   \n",
       "1  MCO627599757     MCO  Mini Drone Dji Mavic Mini 2 Drdji018 Fly More ...   \n",
       "\n",
       "                                              seller    price  \\\n",
       "0  {'id': 168810672, 'permalink': None, 'registra...    39900   \n",
       "1  {'id': 394887418, 'permalink': None, 'registra...  2819900   \n",
       "\n",
       "                                              prices sale_price currency_id  \\\n",
       "0  {'id': 'MCO618049088', 'prices': [{'id': '1', ...       None         COP   \n",
       "1  {'id': 'MCO627599757', 'prices': [{'id': '25',...       None         COP   \n",
       "\n",
       "   available_quantity  sold_quantity  ...  \\\n",
       "0                 240           2054  ...   \n",
       "1                  13            493  ...   \n",
       "\n",
       "                                                tags catalog_listing  \\\n",
       "0  [loyalty_discount_eligible, good_quality_pictu...            True   \n",
       "1  [good_quality_picture, immediate_payment, cart...            True   \n",
       "\n",
       "  use_thumbnail_id offer_score offer_share match_score winner_item_id  \\\n",
       "0             True        None        None        None           None   \n",
       "1             True        None        None        None           None   \n",
       "\n",
       "   melicoin order_backend differential_pricing  \n",
       "0      None             1                  NaN  \n",
       "1      None             2                  NaN  \n",
       "\n",
       "[2 rows x 38 columns]"
      ]
     },
     "execution_count": 4,
     "metadata": {},
     "output_type": "execute_result"
    }
   ],
   "source": [
    "df_cats.head(2)"
   ]
  },
  {
   "cell_type": "code",
   "execution_count": 6,
   "id": "1c851d50",
   "metadata": {},
   "outputs": [],
   "source": [
    "#df_item.shape"
   ]
  },
  {
   "cell_type": "code",
   "execution_count": 7,
   "id": "90adf8c7",
   "metadata": {},
   "outputs": [
    {
     "data": {
      "text/plain": [
       "766"
      ]
     },
     "execution_count": 7,
     "metadata": {},
     "output_type": "execute_result"
    }
   ],
   "source": [
    "# lista de vendedores de los primeros mil productos de la categoría\n",
    "vendedores = pd.DataFrame(df_cats['seller'].tolist())\n",
    "unicos = pd.DataFrame(vendedores['id'].unique())\n",
    "len(unicos)"
   ]
  },
  {
   "cell_type": "code",
   "execution_count": 33,
   "id": "1acdc80f",
   "metadata": {},
   "outputs": [],
   "source": [
    "df_sellers = pd.DataFrame()\n",
    "\n",
    "for seller_id in vendedores['id'].unique():\n",
    "    url = f'https://api.mercadolibre.com/sites/MCO/search?seller_id={seller_id}'\n",
    "    request = requests.get(url)\n",
    "    info_seller = request.json()\n",
    "    \n",
    "    inf_seller_1 = pd.DataFrame([info_seller['seller']])[['id','nickname','permalink','registration_date',\n",
    "                                                            'real_estate_agency','car_dealer']]\n",
    "    inf_seller_2 = pd.DataFrame([info_seller['seller']['seller_reputation']])[['level_id','power_seller_status']]\n",
    "    inf_seller_3 = pd.DataFrame([info_seller['seller']['seller_reputation']['transactions']])[['canceled','period'\n",
    "                                                                                           ,'total','completed']]\n",
    "    inf_seller_4 = pd.DataFrame([info_seller['seller']['seller_reputation']['transactions']['ratings']])\n",
    "    inf_seller_5 = pd.DataFrame([info_seller['seller']['seller_reputation']['metrics']['sales']])\n",
    "    inf_seller_5.columns = ['last_period','last_completed']\n",
    "\n",
    "\n",
    "    seller = pd.concat([inf_seller_1, inf_seller_2, inf_seller_3, inf_seller_4, inf_seller_5], axis=1)\n",
    "    df_sellers = df_sellers.append(seller)"
   ]
  },
  {
   "cell_type": "code",
   "execution_count": 34,
   "id": "b7df02eb",
   "metadata": {},
   "outputs": [
    {
     "data": {
      "text/plain": [
       "(766, 17)"
      ]
     },
     "execution_count": 34,
     "metadata": {},
     "output_type": "execute_result"
    }
   ],
   "source": [
    "df_sellers.shape"
   ]
  },
  {
   "cell_type": "code",
   "execution_count": 35,
   "id": "f95751d7",
   "metadata": {},
   "outputs": [
    {
     "data": {
      "text/html": [
       "<div>\n",
       "<style scoped>\n",
       "    .dataframe tbody tr th:only-of-type {\n",
       "        vertical-align: middle;\n",
       "    }\n",
       "\n",
       "    .dataframe tbody tr th {\n",
       "        vertical-align: top;\n",
       "    }\n",
       "\n",
       "    .dataframe thead th {\n",
       "        text-align: right;\n",
       "    }\n",
       "</style>\n",
       "<table border=\"1\" class=\"dataframe\">\n",
       "  <thead>\n",
       "    <tr style=\"text-align: right;\">\n",
       "      <th></th>\n",
       "      <th>id</th>\n",
       "      <th>nickname</th>\n",
       "      <th>permalink</th>\n",
       "      <th>registration_date</th>\n",
       "      <th>real_estate_agency</th>\n",
       "      <th>car_dealer</th>\n",
       "      <th>level_id</th>\n",
       "      <th>power_seller_status</th>\n",
       "      <th>canceled</th>\n",
       "      <th>period</th>\n",
       "      <th>total</th>\n",
       "      <th>completed</th>\n",
       "      <th>negative</th>\n",
       "      <th>neutral</th>\n",
       "      <th>positive</th>\n",
       "      <th>last_period</th>\n",
       "      <th>last_completed</th>\n",
       "    </tr>\n",
       "  </thead>\n",
       "  <tbody>\n",
       "    <tr>\n",
       "      <th>0</th>\n",
       "      <td>168810672</td>\n",
       "      <td>SONY COLOMBIA</td>\n",
       "      <td>http://perfil.mercadolibre.com.co/SONY+COLOMBIA</td>\n",
       "      <td>2014-10-14T12:03:55.000-04:00</td>\n",
       "      <td>False</td>\n",
       "      <td>False</td>\n",
       "      <td>5_green</td>\n",
       "      <td>platinum</td>\n",
       "      <td>1096</td>\n",
       "      <td>historic</td>\n",
       "      <td>22683</td>\n",
       "      <td>21587</td>\n",
       "      <td>0.02</td>\n",
       "      <td>0.02</td>\n",
       "      <td>0.96</td>\n",
       "      <td>60 days</td>\n",
       "      <td>3280</td>\n",
       "    </tr>\n",
       "    <tr>\n",
       "      <th>0</th>\n",
       "      <td>394887418</td>\n",
       "      <td>TIENDASOFICIALESCOL</td>\n",
       "      <td>http://perfil.mercadolibre.com.co/TIENDASOFICI...</td>\n",
       "      <td>2019-01-14T13:12:49.000-04:00</td>\n",
       "      <td>False</td>\n",
       "      <td>False</td>\n",
       "      <td>5_green</td>\n",
       "      <td>platinum</td>\n",
       "      <td>1679</td>\n",
       "      <td>historic</td>\n",
       "      <td>22216</td>\n",
       "      <td>20537</td>\n",
       "      <td>0.09</td>\n",
       "      <td>0.04</td>\n",
       "      <td>0.87</td>\n",
       "      <td>60 days</td>\n",
       "      <td>2652</td>\n",
       "    </tr>\n",
       "  </tbody>\n",
       "</table>\n",
       "</div>"
      ],
      "text/plain": [
       "          id             nickname  \\\n",
       "0  168810672        SONY COLOMBIA   \n",
       "0  394887418  TIENDASOFICIALESCOL   \n",
       "\n",
       "                                           permalink  \\\n",
       "0    http://perfil.mercadolibre.com.co/SONY+COLOMBIA   \n",
       "0  http://perfil.mercadolibre.com.co/TIENDASOFICI...   \n",
       "\n",
       "               registration_date  real_estate_agency  car_dealer level_id  \\\n",
       "0  2014-10-14T12:03:55.000-04:00               False       False  5_green   \n",
       "0  2019-01-14T13:12:49.000-04:00               False       False  5_green   \n",
       "\n",
       "  power_seller_status  canceled    period  total  completed  negative  \\\n",
       "0            platinum      1096  historic  22683      21587      0.02   \n",
       "0            platinum      1679  historic  22216      20537      0.09   \n",
       "\n",
       "   neutral  positive last_period  last_completed  \n",
       "0     0.02      0.96     60 days            3280  \n",
       "0     0.04      0.87     60 days            2652  "
      ]
     },
     "execution_count": 35,
     "metadata": {},
     "output_type": "execute_result"
    }
   ],
   "source": [
    "df_sellers.head(2)"
   ]
  },
  {
   "cell_type": "code",
   "execution_count": 11,
   "id": "58b970db",
   "metadata": {},
   "outputs": [],
   "source": [
    "#otra informacion que podria ser util\n",
    "\n",
    "#paging = pd.DataFrame([info_seller['paging']])\n",
    "#results = pd.DataFrame(info_seller['results'])\n",
    "#sort = pd.DataFrame([info_seller['sort']])\n",
    "#available_sorts = pd.DataFrame(info_seller['available_sorts'])\n",
    "#filters = pd.DataFrame(info_seller['filters'])\n",
    "#available_filters = pd.DataFrame(info_seller['available_filters'])"
   ]
  },
  {
   "cell_type": "markdown",
   "id": "2513baef",
   "metadata": {},
   "source": [
    "## 2. Exploración y limpieza de la Información"
   ]
  },
  {
   "cell_type": "code",
   "execution_count": 36,
   "id": "85034ec0",
   "metadata": {},
   "outputs": [
    {
     "data": {
      "text/html": [
       "<div>\n",
       "<style scoped>\n",
       "    .dataframe tbody tr th:only-of-type {\n",
       "        vertical-align: middle;\n",
       "    }\n",
       "\n",
       "    .dataframe tbody tr th {\n",
       "        vertical-align: top;\n",
       "    }\n",
       "\n",
       "    .dataframe thead th {\n",
       "        text-align: right;\n",
       "    }\n",
       "</style>\n",
       "<table border=\"1\" class=\"dataframe\">\n",
       "  <thead>\n",
       "    <tr style=\"text-align: right;\">\n",
       "      <th></th>\n",
       "      <th>id</th>\n",
       "      <th>nickname</th>\n",
       "      <th>permalink</th>\n",
       "      <th>registration_date</th>\n",
       "      <th>real_estate_agency</th>\n",
       "      <th>car_dealer</th>\n",
       "      <th>level_id</th>\n",
       "      <th>power_seller_status</th>\n",
       "      <th>canceled</th>\n",
       "      <th>period</th>\n",
       "      <th>total</th>\n",
       "      <th>completed</th>\n",
       "      <th>negative</th>\n",
       "      <th>neutral</th>\n",
       "      <th>positive</th>\n",
       "      <th>last_period</th>\n",
       "      <th>last_completed</th>\n",
       "    </tr>\n",
       "  </thead>\n",
       "  <tbody>\n",
       "    <tr>\n",
       "      <th>0</th>\n",
       "      <td>168810672</td>\n",
       "      <td>SONY COLOMBIA</td>\n",
       "      <td>http://perfil.mercadolibre.com.co/SONY+COLOMBIA</td>\n",
       "      <td>2014-10-14T12:03:55.000-04:00</td>\n",
       "      <td>False</td>\n",
       "      <td>False</td>\n",
       "      <td>5_green</td>\n",
       "      <td>platinum</td>\n",
       "      <td>1096</td>\n",
       "      <td>historic</td>\n",
       "      <td>22683</td>\n",
       "      <td>21587</td>\n",
       "      <td>0.02</td>\n",
       "      <td>0.02</td>\n",
       "      <td>0.96</td>\n",
       "      <td>60 days</td>\n",
       "      <td>3280</td>\n",
       "    </tr>\n",
       "    <tr>\n",
       "      <th>0</th>\n",
       "      <td>394887418</td>\n",
       "      <td>TIENDASOFICIALESCOL</td>\n",
       "      <td>http://perfil.mercadolibre.com.co/TIENDASOFICI...</td>\n",
       "      <td>2019-01-14T13:12:49.000-04:00</td>\n",
       "      <td>False</td>\n",
       "      <td>False</td>\n",
       "      <td>5_green</td>\n",
       "      <td>platinum</td>\n",
       "      <td>1679</td>\n",
       "      <td>historic</td>\n",
       "      <td>22216</td>\n",
       "      <td>20537</td>\n",
       "      <td>0.09</td>\n",
       "      <td>0.04</td>\n",
       "      <td>0.87</td>\n",
       "      <td>60 days</td>\n",
       "      <td>2652</td>\n",
       "    </tr>\n",
       "  </tbody>\n",
       "</table>\n",
       "</div>"
      ],
      "text/plain": [
       "          id             nickname  \\\n",
       "0  168810672        SONY COLOMBIA   \n",
       "0  394887418  TIENDASOFICIALESCOL   \n",
       "\n",
       "                                           permalink  \\\n",
       "0    http://perfil.mercadolibre.com.co/SONY+COLOMBIA   \n",
       "0  http://perfil.mercadolibre.com.co/TIENDASOFICI...   \n",
       "\n",
       "               registration_date  real_estate_agency  car_dealer level_id  \\\n",
       "0  2014-10-14T12:03:55.000-04:00               False       False  5_green   \n",
       "0  2019-01-14T13:12:49.000-04:00               False       False  5_green   \n",
       "\n",
       "  power_seller_status  canceled    period  total  completed  negative  \\\n",
       "0            platinum      1096  historic  22683      21587      0.02   \n",
       "0            platinum      1679  historic  22216      20537      0.09   \n",
       "\n",
       "   neutral  positive last_period  last_completed  \n",
       "0     0.02      0.96     60 days            3280  \n",
       "0     0.04      0.87     60 days            2652  "
      ]
     },
     "execution_count": 36,
     "metadata": {},
     "output_type": "execute_result"
    }
   ],
   "source": [
    "df_sellers.head(2)"
   ]
  },
  {
   "cell_type": "code",
   "execution_count": 266,
   "id": "d0fb529c",
   "metadata": {},
   "outputs": [],
   "source": [
    "#df_sellers.isna().sum()"
   ]
  },
  {
   "cell_type": "code",
   "execution_count": 37,
   "id": "2f63a857",
   "metadata": {},
   "outputs": [
    {
     "data": {
      "text/html": [
       "<div>\n",
       "<style scoped>\n",
       "    .dataframe tbody tr th:only-of-type {\n",
       "        vertical-align: middle;\n",
       "    }\n",
       "\n",
       "    .dataframe tbody tr th {\n",
       "        vertical-align: top;\n",
       "    }\n",
       "\n",
       "    .dataframe thead th {\n",
       "        text-align: right;\n",
       "    }\n",
       "</style>\n",
       "<table border=\"1\" class=\"dataframe\">\n",
       "  <thead>\n",
       "    <tr style=\"text-align: right;\">\n",
       "      <th></th>\n",
       "      <th>id</th>\n",
       "      <th>nickname</th>\n",
       "      <th>permalink</th>\n",
       "      <th>registration_date</th>\n",
       "      <th>level_id</th>\n",
       "      <th>power_seller_status</th>\n",
       "      <th>canceled</th>\n",
       "      <th>total</th>\n",
       "      <th>completed</th>\n",
       "      <th>negative</th>\n",
       "      <th>neutral</th>\n",
       "      <th>positive</th>\n",
       "      <th>last_period</th>\n",
       "      <th>last_completed</th>\n",
       "    </tr>\n",
       "  </thead>\n",
       "  <tbody>\n",
       "    <tr>\n",
       "      <th>0</th>\n",
       "      <td>168810672</td>\n",
       "      <td>SONY COLOMBIA</td>\n",
       "      <td>http://perfil.mercadolibre.com.co/SONY+COLOMBIA</td>\n",
       "      <td>2014-10-14T12:03:55.000-04:00</td>\n",
       "      <td>5_green</td>\n",
       "      <td>platinum</td>\n",
       "      <td>1096</td>\n",
       "      <td>22683</td>\n",
       "      <td>21587</td>\n",
       "      <td>0.02</td>\n",
       "      <td>0.02</td>\n",
       "      <td>0.96</td>\n",
       "      <td>60 days</td>\n",
       "      <td>3280</td>\n",
       "    </tr>\n",
       "    <tr>\n",
       "      <th>0</th>\n",
       "      <td>394887418</td>\n",
       "      <td>TIENDASOFICIALESCOL</td>\n",
       "      <td>http://perfil.mercadolibre.com.co/TIENDASOFICI...</td>\n",
       "      <td>2019-01-14T13:12:49.000-04:00</td>\n",
       "      <td>5_green</td>\n",
       "      <td>platinum</td>\n",
       "      <td>1679</td>\n",
       "      <td>22216</td>\n",
       "      <td>20537</td>\n",
       "      <td>0.09</td>\n",
       "      <td>0.04</td>\n",
       "      <td>0.87</td>\n",
       "      <td>60 days</td>\n",
       "      <td>2652</td>\n",
       "    </tr>\n",
       "  </tbody>\n",
       "</table>\n",
       "</div>"
      ],
      "text/plain": [
       "          id             nickname  \\\n",
       "0  168810672        SONY COLOMBIA   \n",
       "0  394887418  TIENDASOFICIALESCOL   \n",
       "\n",
       "                                           permalink  \\\n",
       "0    http://perfil.mercadolibre.com.co/SONY+COLOMBIA   \n",
       "0  http://perfil.mercadolibre.com.co/TIENDASOFICI...   \n",
       "\n",
       "               registration_date level_id power_seller_status  canceled  \\\n",
       "0  2014-10-14T12:03:55.000-04:00  5_green            platinum      1096   \n",
       "0  2019-01-14T13:12:49.000-04:00  5_green            platinum      1679   \n",
       "\n",
       "   total  completed  negative  neutral  positive last_period  last_completed  \n",
       "0  22683      21587      0.02     0.02      0.96     60 days            3280  \n",
       "0  22216      20537      0.09     0.04      0.87     60 days            2652  "
      ]
     },
     "execution_count": 37,
     "metadata": {},
     "output_type": "execute_result"
    }
   ],
   "source": [
    "#eliminamos las variables con valor constante\n",
    "df_sellers = df_sellers.loc[:,df_sellers.apply(pd.Series.nunique) != 1]\n",
    "df_sellers.head(2)"
   ]
  },
  {
   "cell_type": "code",
   "execution_count": 38,
   "id": "ec8103dd",
   "metadata": {},
   "outputs": [
    {
     "data": {
      "text/plain": [
       "(766, 14)"
      ]
     },
     "execution_count": 38,
     "metadata": {},
     "output_type": "execute_result"
    }
   ],
   "source": [
    "df_sellers.shape"
   ]
  },
  {
   "cell_type": "code",
   "execution_count": 39,
   "id": "e8502376",
   "metadata": {},
   "outputs": [],
   "source": [
    "dict_level = {None:0, '1_red':1, '2_orange':2, '3_yellow':3,\n",
    "              '4_light_green': 4, '5_green':5}\n",
    "dict_powerss = {None:0, 'silver': 1, 'platinum': 2, 'gold': 3} \n",
    "dict_period = {'365 days': 1, '60 days': 5} "
   ]
  },
  {
   "cell_type": "code",
   "execution_count": 40,
   "id": "34176ab7",
   "metadata": {},
   "outputs": [
    {
     "data": {
      "text/html": [
       "<div>\n",
       "<style scoped>\n",
       "    .dataframe tbody tr th:only-of-type {\n",
       "        vertical-align: middle;\n",
       "    }\n",
       "\n",
       "    .dataframe tbody tr th {\n",
       "        vertical-align: top;\n",
       "    }\n",
       "\n",
       "    .dataframe thead th {\n",
       "        text-align: right;\n",
       "    }\n",
       "</style>\n",
       "<table border=\"1\" class=\"dataframe\">\n",
       "  <thead>\n",
       "    <tr style=\"text-align: right;\">\n",
       "      <th></th>\n",
       "      <th>id</th>\n",
       "      <th>nickname</th>\n",
       "      <th>permalink</th>\n",
       "      <th>registration_date</th>\n",
       "      <th>level_id</th>\n",
       "      <th>power_seller_status</th>\n",
       "      <th>canceled</th>\n",
       "      <th>total</th>\n",
       "      <th>completed</th>\n",
       "      <th>negative</th>\n",
       "      <th>neutral</th>\n",
       "      <th>positive</th>\n",
       "      <th>last_period</th>\n",
       "      <th>last_completed</th>\n",
       "    </tr>\n",
       "  </thead>\n",
       "  <tbody>\n",
       "    <tr>\n",
       "      <th>0</th>\n",
       "      <td>168810672</td>\n",
       "      <td>SONY COLOMBIA</td>\n",
       "      <td>http://perfil.mercadolibre.com.co/SONY+COLOMBIA</td>\n",
       "      <td>2014-10-14T12:03:55.000-04:00</td>\n",
       "      <td>5</td>\n",
       "      <td>2</td>\n",
       "      <td>1096</td>\n",
       "      <td>22683</td>\n",
       "      <td>21587</td>\n",
       "      <td>0.02</td>\n",
       "      <td>0.02</td>\n",
       "      <td>0.96</td>\n",
       "      <td>5</td>\n",
       "      <td>3280</td>\n",
       "    </tr>\n",
       "    <tr>\n",
       "      <th>0</th>\n",
       "      <td>394887418</td>\n",
       "      <td>TIENDASOFICIALESCOL</td>\n",
       "      <td>http://perfil.mercadolibre.com.co/TIENDASOFICI...</td>\n",
       "      <td>2019-01-14T13:12:49.000-04:00</td>\n",
       "      <td>5</td>\n",
       "      <td>2</td>\n",
       "      <td>1679</td>\n",
       "      <td>22216</td>\n",
       "      <td>20537</td>\n",
       "      <td>0.09</td>\n",
       "      <td>0.04</td>\n",
       "      <td>0.87</td>\n",
       "      <td>5</td>\n",
       "      <td>2652</td>\n",
       "    </tr>\n",
       "  </tbody>\n",
       "</table>\n",
       "</div>"
      ],
      "text/plain": [
       "          id             nickname  \\\n",
       "0  168810672        SONY COLOMBIA   \n",
       "0  394887418  TIENDASOFICIALESCOL   \n",
       "\n",
       "                                           permalink  \\\n",
       "0    http://perfil.mercadolibre.com.co/SONY+COLOMBIA   \n",
       "0  http://perfil.mercadolibre.com.co/TIENDASOFICI...   \n",
       "\n",
       "               registration_date  level_id  power_seller_status  canceled  \\\n",
       "0  2014-10-14T12:03:55.000-04:00         5                    2      1096   \n",
       "0  2019-01-14T13:12:49.000-04:00         5                    2      1679   \n",
       "\n",
       "   total  completed  negative  neutral  positive  last_period  last_completed  \n",
       "0  22683      21587      0.02     0.02      0.96            5            3280  \n",
       "0  22216      20537      0.09     0.04      0.87            5            2652  "
      ]
     },
     "execution_count": 40,
     "metadata": {},
     "output_type": "execute_result"
    }
   ],
   "source": [
    "df_sellers = df_sellers.replace({\"level_id\": dict_level})\n",
    "df_sellers = df_sellers.replace({\"power_seller_status\": dict_powerss})\n",
    "df_sellers = df_sellers.replace({\"last_period\": dict_period})\n",
    "df_sellers.head(2)"
   ]
  },
  {
   "cell_type": "code",
   "execution_count": 41,
   "id": "0828e6c6",
   "metadata": {},
   "outputs": [
    {
     "data": {
      "image/png": "[encoded data removed]",
      "text/plain": [
       "<Figure size 432x288 with 1 Axes>"
      ]
     },
     "metadata": {
      "needs_background": "light"
     },
     "output_type": "display_data"
    }
   ],
   "source": [
    "#distribucion variable reputación de los vendedores\n",
    "level_hist = df_sellers[\"level_id\"]\n",
    "(n, bins, patches) = plt.hist(level_hist, bins=6, label='hist')\n",
    "plt.title(\"Distribución reputación\")\n",
    "plt.show()"
   ]
  },
  {
   "cell_type": "code",
   "execution_count": 42,
   "id": "280d611c",
   "metadata": {},
   "outputs": [
    {
     "data": {
      "image/png": "[encoded data removed]",
      "text/plain": [
       "<Figure size 432x288 with 1 Axes>"
      ]
     },
     "metadata": {
      "needs_background": "light"
     },
     "output_type": "display_data"
    }
   ],
   "source": [
    "#distribucion variable reputación de los vendedores\n",
    "powerstatus_hist = df_sellers[\"power_seller_status\"]\n",
    "(n, bins, patches) = plt.hist(powerstatus_hist, bins=3, label='hist')\n",
    "plt.title(\"Distribución Power Seller Status\")\n",
    "plt.show()"
   ]
  },
  {
   "cell_type": "markdown",
   "id": "73bbd5a4",
   "metadata": {},
   "source": [
    "## 3. Agrupación y creación de variables"
   ]
  },
  {
   "cell_type": "code",
   "execution_count": 43,
   "id": "42d9344d",
   "metadata": {},
   "outputs": [
    {
     "data": {
      "text/html": [
       "<div>\n",
       "<style scoped>\n",
       "    .dataframe tbody tr th:only-of-type {\n",
       "        vertical-align: middle;\n",
       "    }\n",
       "\n",
       "    .dataframe tbody tr th {\n",
       "        vertical-align: top;\n",
       "    }\n",
       "\n",
       "    .dataframe thead th {\n",
       "        text-align: right;\n",
       "    }\n",
       "</style>\n",
       "<table border=\"1\" class=\"dataframe\">\n",
       "  <thead>\n",
       "    <tr style=\"text-align: right;\">\n",
       "      <th></th>\n",
       "      <th>id</th>\n",
       "      <th>nickname</th>\n",
       "      <th>permalink</th>\n",
       "      <th>registration_date</th>\n",
       "      <th>level_id</th>\n",
       "      <th>power_seller_status</th>\n",
       "      <th>porc_vendidos</th>\n",
       "      <th>prop_last_completed</th>\n",
       "      <th>good_comments</th>\n",
       "      <th>antiguedad_meses</th>\n",
       "    </tr>\n",
       "  </thead>\n",
       "  <tbody>\n",
       "    <tr>\n",
       "      <th>0</th>\n",
       "      <td>168810672</td>\n",
       "      <td>SONY COLOMBIA</td>\n",
       "      <td>http://perfil.mercadolibre.com.co/SONY+COLOMBIA</td>\n",
       "      <td>2014-10-14</td>\n",
       "      <td>5</td>\n",
       "      <td>2</td>\n",
       "      <td>0.951682</td>\n",
       "      <td>16400</td>\n",
       "      <td>0.98</td>\n",
       "      <td>90.0</td>\n",
       "    </tr>\n",
       "    <tr>\n",
       "      <th>0</th>\n",
       "      <td>394887418</td>\n",
       "      <td>TIENDASOFICIALESCOL</td>\n",
       "      <td>http://perfil.mercadolibre.com.co/TIENDASOFICI...</td>\n",
       "      <td>2019-01-14</td>\n",
       "      <td>5</td>\n",
       "      <td>2</td>\n",
       "      <td>0.924424</td>\n",
       "      <td>13260</td>\n",
       "      <td>0.91</td>\n",
       "      <td>38.0</td>\n",
       "    </tr>\n",
       "    <tr>\n",
       "      <th>0</th>\n",
       "      <td>91896930</td>\n",
       "      <td>COMERTEC.CO</td>\n",
       "      <td>http://perfil.mercadolibre.com.co/COMERTEC.CO</td>\n",
       "      <td>2006-02-23</td>\n",
       "      <td>5</td>\n",
       "      <td>2</td>\n",
       "      <td>0.943277</td>\n",
       "      <td>43230</td>\n",
       "      <td>0.96</td>\n",
       "      <td>195.0</td>\n",
       "    </tr>\n",
       "    <tr>\n",
       "      <th>0</th>\n",
       "      <td>323005693</td>\n",
       "      <td>STREETGAMINGSTORE</td>\n",
       "      <td>http://perfil.mercadolibre.com.co/STREETGAMING...</td>\n",
       "      <td>2018-05-21</td>\n",
       "      <td>5</td>\n",
       "      <td>2</td>\n",
       "      <td>0.964770</td>\n",
       "      <td>1565</td>\n",
       "      <td>1.00</td>\n",
       "      <td>46.0</td>\n",
       "    </tr>\n",
       "    <tr>\n",
       "      <th>0</th>\n",
       "      <td>326375003</td>\n",
       "      <td>NBNORTHBAYOU COLOMBIASAS</td>\n",
       "      <td>http://perfil.mercadolibre.com.co/NBNORTHBAYOU...</td>\n",
       "      <td>2018-06-06</td>\n",
       "      <td>5</td>\n",
       "      <td>2</td>\n",
       "      <td>0.972525</td>\n",
       "      <td>11380</td>\n",
       "      <td>0.99</td>\n",
       "      <td>45.0</td>\n",
       "    </tr>\n",
       "  </tbody>\n",
       "</table>\n",
       "</div>"
      ],
      "text/plain": [
       "          id                  nickname  \\\n",
       "0  168810672             SONY COLOMBIA   \n",
       "0  394887418       TIENDASOFICIALESCOL   \n",
       "0   91896930               COMERTEC.CO   \n",
       "0  323005693         STREETGAMINGSTORE   \n",
       "0  326375003  NBNORTHBAYOU COLOMBIASAS   \n",
       "\n",
       "                                           permalink registration_date  \\\n",
       "0    http://perfil.mercadolibre.com.co/SONY+COLOMBIA        2014-10-14   \n",
       "0  http://perfil.mercadolibre.com.co/TIENDASOFICI...        2019-01-14   \n",
       "0      http://perfil.mercadolibre.com.co/COMERTEC.CO        2006-02-23   \n",
       "0  http://perfil.mercadolibre.com.co/STREETGAMING...        2018-05-21   \n",
       "0  http://perfil.mercadolibre.com.co/NBNORTHBAYOU...        2018-06-06   \n",
       "\n",
       "   level_id  power_seller_status  porc_vendidos  prop_last_completed  \\\n",
       "0         5                    2       0.951682                16400   \n",
       "0         5                    2       0.924424                13260   \n",
       "0         5                    2       0.943277                43230   \n",
       "0         5                    2       0.964770                 1565   \n",
       "0         5                    2       0.972525                11380   \n",
       "\n",
       "   good_comments  antiguedad_meses  \n",
       "0           0.98              90.0  \n",
       "0           0.91              38.0  \n",
       "0           0.96             195.0  \n",
       "0           1.00              46.0  \n",
       "0           0.99              45.0  "
      ]
     },
     "execution_count": 43,
     "metadata": {},
     "output_type": "execute_result"
    }
   ],
   "source": [
    "df_sellers['porc_vendidos'] = df_sellers['completed']/df_sellers['total']\n",
    "df_sellers['prop_last_completed'] = df_sellers['last_period']*df_sellers['last_completed']\n",
    "df_sellers['good_comments'] = df_sellers[\"neutral\"] + df_sellers[\"positive\"]\n",
    "\n",
    "\n",
    "today = datetime.date.today()\n",
    "df_sellers[\"registration_date\"] = pd.to_datetime(df_sellers[\"registration_date\"]).dt.date\n",
    "df_sellers[\"antiguedad_meses\"] = ((abs(pd.to_datetime(today) - pd.to_datetime(df_sellers[\"registration_date\"])).dt.days)/30) // 1\n",
    "\n",
    "\n",
    "df_sellers = df_sellers.drop(columns = [\"completed\", \"total\",\"canceled\", \"negative\", \"last_period\",\n",
    "                                    \"last_completed\", \"neutral\", \"positive\"])\n",
    "\n",
    "df_sellers.head(5)"
   ]
  },
  {
   "cell_type": "code",
   "execution_count": 53,
   "id": "747354db",
   "metadata": {},
   "outputs": [
    {
     "data": {
      "text/html": [
       "<div>\n",
       "<style scoped>\n",
       "    .dataframe tbody tr th:only-of-type {\n",
       "        vertical-align: middle;\n",
       "    }\n",
       "\n",
       "    .dataframe tbody tr th {\n",
       "        vertical-align: top;\n",
       "    }\n",
       "\n",
       "    .dataframe thead th {\n",
       "        text-align: right;\n",
       "    }\n",
       "</style>\n",
       "<table border=\"1\" class=\"dataframe\">\n",
       "  <thead>\n",
       "    <tr style=\"text-align: right;\">\n",
       "      <th></th>\n",
       "      <th>level_id</th>\n",
       "      <th>power_seller_status</th>\n",
       "      <th>porc_vendidos</th>\n",
       "      <th>prop_last_completed</th>\n",
       "      <th>good_comments</th>\n",
       "      <th>antiguedad_meses</th>\n",
       "    </tr>\n",
       "  </thead>\n",
       "  <tbody>\n",
       "    <tr>\n",
       "      <th>0</th>\n",
       "      <td>5</td>\n",
       "      <td>2</td>\n",
       "      <td>0.951682</td>\n",
       "      <td>16400</td>\n",
       "      <td>0.98</td>\n",
       "      <td>90.0</td>\n",
       "    </tr>\n",
       "    <tr>\n",
       "      <th>0</th>\n",
       "      <td>5</td>\n",
       "      <td>2</td>\n",
       "      <td>0.924424</td>\n",
       "      <td>13260</td>\n",
       "      <td>0.91</td>\n",
       "      <td>38.0</td>\n",
       "    </tr>\n",
       "    <tr>\n",
       "      <th>0</th>\n",
       "      <td>5</td>\n",
       "      <td>2</td>\n",
       "      <td>0.943277</td>\n",
       "      <td>43230</td>\n",
       "      <td>0.96</td>\n",
       "      <td>195.0</td>\n",
       "    </tr>\n",
       "    <tr>\n",
       "      <th>0</th>\n",
       "      <td>5</td>\n",
       "      <td>2</td>\n",
       "      <td>0.964770</td>\n",
       "      <td>1565</td>\n",
       "      <td>1.00</td>\n",
       "      <td>46.0</td>\n",
       "    </tr>\n",
       "    <tr>\n",
       "      <th>0</th>\n",
       "      <td>5</td>\n",
       "      <td>2</td>\n",
       "      <td>0.972525</td>\n",
       "      <td>11380</td>\n",
       "      <td>0.99</td>\n",
       "      <td>45.0</td>\n",
       "    </tr>\n",
       "  </tbody>\n",
       "</table>\n",
       "</div>"
      ],
      "text/plain": [
       "   level_id  power_seller_status  porc_vendidos  prop_last_completed  \\\n",
       "0         5                    2       0.951682                16400   \n",
       "0         5                    2       0.924424                13260   \n",
       "0         5                    2       0.943277                43230   \n",
       "0         5                    2       0.964770                 1565   \n",
       "0         5                    2       0.972525                11380   \n",
       "\n",
       "   good_comments  antiguedad_meses  \n",
       "0           0.98              90.0  \n",
       "0           0.91              38.0  \n",
       "0           0.96             195.0  \n",
       "0           1.00              46.0  \n",
       "0           0.99              45.0  "
      ]
     },
     "execution_count": 53,
     "metadata": {},
     "output_type": "execute_result"
    }
   ],
   "source": [
    "df = df_sellers.iloc[:,4:]\n",
    "df.head(5)"
   ]
  },
  {
   "cell_type": "code",
   "execution_count": 54,
   "id": "ea44c3c9",
   "metadata": {},
   "outputs": [
    {
     "data": {
      "text/plain": [
       "(766, 6)"
      ]
     },
     "execution_count": 54,
     "metadata": {},
     "output_type": "execute_result"
    }
   ],
   "source": [
    "df.shape"
   ]
  },
  {
   "cell_type": "code",
   "execution_count": 75,
   "id": "63ae0807",
   "metadata": {},
   "outputs": [
    {
     "data": {
      "image/png": "[encoded data removed]",
      "text/plain": [
       "<Figure size 432x288 with 1 Axes>"
      ]
     },
     "metadata": {
      "needs_background": "light"
     },
     "output_type": "display_data"
    }
   ],
   "source": [
    "#creacion target value\n",
    "\n",
    "#distribucion de las ventas de los vendedores seleccionados\n",
    "ventas = df[\"porc_vendidos\"]\n",
    "ventas = ventas[ventas.between(ventas.quantile(.15), ventas.quantile(.85))]\n",
    "(n, bins, patches) = plt.hist(ventas, bins=5, label='hist')\n",
    "plt.title(\"Distribución proporción de ventas\")\n",
    "plt.show()"
   ]
  },
  {
   "cell_type": "code",
   "execution_count": 595,
   "id": "27c4e7bc",
   "metadata": {},
   "outputs": [
    {
     "data": {
      "text/plain": [
       "[0.9247826086956522,\n",
       " 0.9418954300222152,\n",
       " 0.9490082513487782,\n",
       " 0.9561210726753412,\n",
       " 0.9632338940019042,\n",
       " 0.9703467153284672]"
      ]
     },
     "execution_count": 595,
     "metadata": {},
     "output_type": "execute_result"
    }
   ],
   "source": [
    "bins = bins.tolist()\n",
    "bins[0] = bins[0]-0.01\n",
    "bins"
   ]
  },
  {
   "cell_type": "code",
   "execution_count": 596,
   "id": "2dc6a29d",
   "metadata": {},
   "outputs": [
    {
     "data": {
      "text/plain": [
       "0.9703467153284672"
      ]
     },
     "execution_count": 596,
     "metadata": {},
     "output_type": "execute_result"
    }
   ],
   "source": [
    "bins[5]"
   ]
  },
  {
   "cell_type": "code",
   "execution_count": 101,
   "id": "8d2b879c",
   "metadata": {},
   "outputs": [
    {
     "data": {
      "text/plain": [
       "(536, 6)"
      ]
     },
     "execution_count": 101,
     "metadata": {},
     "output_type": "execute_result"
    }
   ],
   "source": [
    "#seleccionamos los vendedores con porcentajes de venta entre los cuantiles seleccionados\n",
    "min_ventas = df[\"porc_vendidos\"].quantile(.15)\n",
    "max_ventas = df[\"porc_vendidos\"].quantile(.85)\n",
    "df_train = df[df[\"porc_vendidos\"].between(min_ventas, max_ventas)]\n",
    "df_train.shape"
   ]
  },
  {
   "cell_type": "code",
   "execution_count": 598,
   "id": "bff9eb8e",
   "metadata": {},
   "outputs": [],
   "source": [
    "#labels = list(range(1, 6))\n",
    "#df_train.loc[:,'binned'] = pd.cut(df_train['porc_vendidos'], bins=bins, labels=labels)\n",
    "#del df_train[\"porc_vendidos\"]\n",
    "#df_train.head() "
   ]
  },
  {
   "cell_type": "code",
   "execution_count": 78,
   "id": "a95f62f9",
   "metadata": {
    "scrolled": true
   },
   "outputs": [
    {
     "data": {
      "text/html": [
       "<style  type=\"text/css\" >\n",
       "#T_9346c_row0_col0,#T_9346c_row1_col1,#T_9346c_row2_col2,#T_9346c_row3_col3,#T_9346c_row4_col4,#T_9346c_row5_col5{\n",
       "            background-color:  #b40426;\n",
       "            color:  #f1f1f1;\n",
       "        }#T_9346c_row0_col1{\n",
       "            background-color:  #9ebeff;\n",
       "            color:  #000000;\n",
       "        }#T_9346c_row0_col2,#T_9346c_row2_col0{\n",
       "            background-color:  #6f92f3;\n",
       "            color:  #000000;\n",
       "        }#T_9346c_row0_col3,#T_9346c_row3_col1,#T_9346c_row4_col5{\n",
       "            background-color:  #6687ed;\n",
       "            color:  #000000;\n",
       "        }#T_9346c_row0_col4{\n",
       "            background-color:  #6b8df0;\n",
       "            color:  #000000;\n",
       "        }#T_9346c_row0_col5,#T_9346c_row2_col5{\n",
       "            background-color:  #3c4ec2;\n",
       "            color:  #f1f1f1;\n",
       "        }#T_9346c_row1_col0{\n",
       "            background-color:  #92b4fe;\n",
       "            color:  #000000;\n",
       "        }#T_9346c_row1_col2{\n",
       "            background-color:  #7396f5;\n",
       "            color:  #000000;\n",
       "        }#T_9346c_row1_col3{\n",
       "            background-color:  #7da0f9;\n",
       "            color:  #000000;\n",
       "        }#T_9346c_row1_col4{\n",
       "            background-color:  #536edd;\n",
       "            color:  #000000;\n",
       "        }#T_9346c_row1_col5,#T_9346c_row3_col4,#T_9346c_row4_col1,#T_9346c_row4_col3,#T_9346c_row5_col0,#T_9346c_row5_col2{\n",
       "            background-color:  #3b4cc0;\n",
       "            color:  #f1f1f1;\n",
       "        }#T_9346c_row2_col1{\n",
       "            background-color:  #81a4fb;\n",
       "            color:  #000000;\n",
       "        }#T_9346c_row2_col3{\n",
       "            background-color:  #7295f4;\n",
       "            color:  #000000;\n",
       "        }#T_9346c_row2_col4{\n",
       "            background-color:  #a6c4fe;\n",
       "            color:  #000000;\n",
       "        }#T_9346c_row3_col0{\n",
       "            background-color:  #3f53c6;\n",
       "            color:  #f1f1f1;\n",
       "        }#T_9346c_row3_col2{\n",
       "            background-color:  #4b64d5;\n",
       "            color:  #f1f1f1;\n",
       "        }#T_9346c_row3_col5{\n",
       "            background-color:  #3e51c5;\n",
       "            color:  #f1f1f1;\n",
       "        }#T_9346c_row4_col0{\n",
       "            background-color:  #445acc;\n",
       "            color:  #f1f1f1;\n",
       "        }#T_9346c_row4_col2{\n",
       "            background-color:  #84a7fc;\n",
       "            color:  #000000;\n",
       "        }#T_9346c_row5_col1{\n",
       "            background-color:  #465ecf;\n",
       "            color:  #f1f1f1;\n",
       "        }#T_9346c_row5_col3{\n",
       "            background-color:  #6282ea;\n",
       "            color:  #000000;\n",
       "        }#T_9346c_row5_col4{\n",
       "            background-color:  #89acfd;\n",
       "            color:  #000000;\n",
       "        }</style><table id=\"T_9346c_\" ><thead>    <tr>        <th class=\"blank level0\" ></th>        <th class=\"col_heading level0 col0\" >level_id</th>        <th class=\"col_heading level0 col1\" >power_seller_status</th>        <th class=\"col_heading level0 col2\" >porc_vendidos</th>        <th class=\"col_heading level0 col3\" >prop_last_completed</th>        <th class=\"col_heading level0 col4\" >good_comments</th>        <th class=\"col_heading level0 col5\" >antiguedad_meses</th>    </tr></thead><tbody>\n",
       "                <tr>\n",
       "                        <th id=\"T_9346c_level0_row0\" class=\"row_heading level0 row0\" >level_id</th>\n",
       "                        <td id=\"T_9346c_row0_col0\" class=\"data row0 col0\" >1.000000</td>\n",
       "                        <td id=\"T_9346c_row0_col1\" class=\"data row0 col1\" >0.316679</td>\n",
       "                        <td id=\"T_9346c_row0_col2\" class=\"data row0 col2\" >0.227769</td>\n",
       "                        <td id=\"T_9346c_row0_col3\" class=\"data row0 col3\" >0.089665</td>\n",
       "                        <td id=\"T_9346c_row0_col4\" class=\"data row0 col4\" >0.104105</td>\n",
       "                        <td id=\"T_9346c_row0_col5\" class=\"data row0 col5\" >0.072204</td>\n",
       "            </tr>\n",
       "            <tr>\n",
       "                        <th id=\"T_9346c_level0_row1\" class=\"row_heading level0 row1\" >power_seller_status</th>\n",
       "                        <td id=\"T_9346c_row1_col0\" class=\"data row1 col0\" >0.316679</td>\n",
       "                        <td id=\"T_9346c_row1_col1\" class=\"data row1 col1\" >1.000000</td>\n",
       "                        <td id=\"T_9346c_row1_col2\" class=\"data row1 col2\" >0.238201</td>\n",
       "                        <td id=\"T_9346c_row1_col3\" class=\"data row1 col3\" >0.159477</td>\n",
       "                        <td id=\"T_9346c_row1_col4\" class=\"data row1 col4\" >0.025672</td>\n",
       "                        <td id=\"T_9346c_row1_col5\" class=\"data row1 col5\" >0.066478</td>\n",
       "            </tr>\n",
       "            <tr>\n",
       "                        <th id=\"T_9346c_level0_row2\" class=\"row_heading level0 row2\" >porc_vendidos</th>\n",
       "                        <td id=\"T_9346c_row2_col0\" class=\"data row2 col0\" >0.227769</td>\n",
       "                        <td id=\"T_9346c_row2_col1\" class=\"data row2 col1\" >0.238201</td>\n",
       "                        <td id=\"T_9346c_row2_col2\" class=\"data row2 col2\" >1.000000</td>\n",
       "                        <td id=\"T_9346c_row2_col3\" class=\"data row2 col3\" >0.126939</td>\n",
       "                        <td id=\"T_9346c_row2_col4\" class=\"data row2 col4\" >0.281904</td>\n",
       "                        <td id=\"T_9346c_row2_col5\" class=\"data row2 col5\" >0.073636</td>\n",
       "            </tr>\n",
       "            <tr>\n",
       "                        <th id=\"T_9346c_level0_row3\" class=\"row_heading level0 row3\" >prop_last_completed</th>\n",
       "                        <td id=\"T_9346c_row3_col0\" class=\"data row3 col0\" >0.089665</td>\n",
       "                        <td id=\"T_9346c_row3_col1\" class=\"data row3 col1\" >0.159477</td>\n",
       "                        <td id=\"T_9346c_row3_col2\" class=\"data row3 col2\" >0.126939</td>\n",
       "                        <td id=\"T_9346c_row3_col3\" class=\"data row3 col3\" >1.000000</td>\n",
       "                        <td id=\"T_9346c_row3_col4\" class=\"data row3 col4\" >-0.057683</td>\n",
       "                        <td id=\"T_9346c_row3_col5\" class=\"data row3 col5\" >0.077479</td>\n",
       "            </tr>\n",
       "            <tr>\n",
       "                        <th id=\"T_9346c_level0_row4\" class=\"row_heading level0 row4\" >good_comments</th>\n",
       "                        <td id=\"T_9346c_row4_col0\" class=\"data row4 col0\" >0.104105</td>\n",
       "                        <td id=\"T_9346c_row4_col1\" class=\"data row4 col1\" >0.025672</td>\n",
       "                        <td id=\"T_9346c_row4_col2\" class=\"data row4 col2\" >0.281904</td>\n",
       "                        <td id=\"T_9346c_row4_col3\" class=\"data row4 col3\" >-0.057683</td>\n",
       "                        <td id=\"T_9346c_row4_col4\" class=\"data row4 col4\" >1.000000</td>\n",
       "                        <td id=\"T_9346c_row4_col5\" class=\"data row4 col5\" >0.195762</td>\n",
       "            </tr>\n",
       "            <tr>\n",
       "                        <th id=\"T_9346c_level0_row5\" class=\"row_heading level0 row5\" >antiguedad_meses</th>\n",
       "                        <td id=\"T_9346c_row5_col0\" class=\"data row5 col0\" >0.072204</td>\n",
       "                        <td id=\"T_9346c_row5_col1\" class=\"data row5 col1\" >0.066478</td>\n",
       "                        <td id=\"T_9346c_row5_col2\" class=\"data row5 col2\" >0.073636</td>\n",
       "                        <td id=\"T_9346c_row5_col3\" class=\"data row5 col3\" >0.077479</td>\n",
       "                        <td id=\"T_9346c_row5_col4\" class=\"data row5 col4\" >0.195762</td>\n",
       "                        <td id=\"T_9346c_row5_col5\" class=\"data row5 col5\" >1.000000</td>\n",
       "            </tr>\n",
       "    </tbody></table>"
      ],
      "text/plain": [
       "<pandas.io.formats.style.Styler at 0x7fd5184f5190>"
      ]
     },
     "execution_count": 78,
     "metadata": {},
     "output_type": "execute_result"
    }
   ],
   "source": [
    "corr = df.corr()\n",
    "corr.style.background_gradient(cmap='coolwarm')"
   ]
  },
  {
   "cell_type": "markdown",
   "id": "f01854b0",
   "metadata": {},
   "source": [
    "## 4. K-Medoids"
   ]
  },
  {
   "cell_type": "markdown",
   "id": "cb03d006",
   "metadata": {},
   "source": [
    "Se elige este método ya que es una variación de K-means que tiene en cuenta el uso de variables categóricas y continuas, haciendo uso de una métrica no euclideana.\n",
    "\n",
    "Para la aplicación de este método se tomó como guía los ejemplos presentados en \n",
    "https://medium.com/analytics-vidhya/the-ultimate-guide-for-clustering-mixed-data-1eefa0b4743b"
   ]
  },
  {
   "cell_type": "code",
   "execution_count": 102,
   "id": "e11f7585",
   "metadata": {},
   "outputs": [],
   "source": [
    "def evaluate_clusters(scores,  preds, labels, name='', X=None):\n",
    "\n",
    "  if X is not None:\n",
    "\n",
    "    silhouette = silhouette_score(X, preds, metric='euclidean')\n",
    "    cal_har = calinski_harabasz_score(X, preds)\n",
    "    dav_bould = davies_bouldin_score(X, preds)\n",
    "\n",
    "    adj_mut_info = adjusted_mutual_info_score(labels, preds, average_method='arithmetic')\n",
    "    adj_rand = adjusted_rand_score(labels, preds)\n",
    "\n",
    "    content = {'Algorithm':name,\n",
    "               'Silhouette':silhouette,\n",
    "               'Calinski_Harabasz':cal_har,\n",
    "               'Davis Bouldin':dav_bould,\n",
    "               'Adjusted_Mutual_Info':adj_mut_info,\n",
    "               'Adjusted_Rand_Score':adj_rand}\n",
    "\n",
    "    scores = scores.append(content, ignore_index = True)\n",
    "\n",
    "  else:\n",
    "\n",
    "    adj_mut_info = adjusted_mutual_info_score(labels, preds, average_method='arithmetic')\n",
    "    adj_rand = adjusted_rand_score(labels, preds)\n",
    "\n",
    "    content = {'Algorithm':name,\n",
    "               'Silhouette':np.NaN,\n",
    "               'Calinski_Harabasz':np.NaN,\n",
    "               'Davis Bouldin':np.NaN,\n",
    "               'Adjusted_Mutual_Info':adj_mut_info,\n",
    "               'Adjusted_Rand_Score':adj_rand}\n",
    "\n",
    "    scores = scores.append(content, ignore_index = True)\n",
    "\n",
    "\n",
    "  return scores"
   ]
  },
  {
   "cell_type": "code",
   "execution_count": 103,
   "id": "c9bcf5c3",
   "metadata": {},
   "outputs": [
    {
     "data": {
      "text/html": [
       "<div>\n",
       "<style scoped>\n",
       "    .dataframe tbody tr th:only-of-type {\n",
       "        vertical-align: middle;\n",
       "    }\n",
       "\n",
       "    .dataframe tbody tr th {\n",
       "        vertical-align: top;\n",
       "    }\n",
       "\n",
       "    .dataframe thead th {\n",
       "        text-align: right;\n",
       "    }\n",
       "</style>\n",
       "<table border=\"1\" class=\"dataframe\">\n",
       "  <thead>\n",
       "    <tr style=\"text-align: right;\">\n",
       "      <th></th>\n",
       "      <th>level_id</th>\n",
       "      <th>power_seller_status</th>\n",
       "      <th>porc_vendidos</th>\n",
       "      <th>prop_last_completed</th>\n",
       "      <th>good_comments</th>\n",
       "      <th>antiguedad_meses</th>\n",
       "    </tr>\n",
       "  </thead>\n",
       "  <tbody>\n",
       "    <tr>\n",
       "      <th>0</th>\n",
       "      <td>5</td>\n",
       "      <td>2</td>\n",
       "      <td>0.951682</td>\n",
       "      <td>16400</td>\n",
       "      <td>0.98</td>\n",
       "      <td>90.0</td>\n",
       "    </tr>\n",
       "    <tr>\n",
       "      <th>0</th>\n",
       "      <td>5</td>\n",
       "      <td>2</td>\n",
       "      <td>0.943277</td>\n",
       "      <td>43230</td>\n",
       "      <td>0.96</td>\n",
       "      <td>195.0</td>\n",
       "    </tr>\n",
       "  </tbody>\n",
       "</table>\n",
       "</div>"
      ],
      "text/plain": [
       "   level_id  power_seller_status  porc_vendidos  prop_last_completed  \\\n",
       "0         5                    2       0.951682                16400   \n",
       "0         5                    2       0.943277                43230   \n",
       "\n",
       "   good_comments  antiguedad_meses  \n",
       "0           0.98              90.0  \n",
       "0           0.96             195.0  "
      ]
     },
     "execution_count": 103,
     "metadata": {},
     "output_type": "execute_result"
    }
   ],
   "source": [
    "df_train.head(2)"
   ]
  },
  {
   "cell_type": "code",
   "execution_count": 104,
   "id": "dba1dfca",
   "metadata": {},
   "outputs": [
    {
     "data": {
      "text/plain": [
       "(536, 6)"
      ]
     },
     "execution_count": 104,
     "metadata": {},
     "output_type": "execute_result"
    }
   ],
   "source": [
    "df_train.shape"
   ]
  },
  {
   "cell_type": "code",
   "execution_count": 63,
   "id": "53c0c3ee",
   "metadata": {},
   "outputs": [
    {
     "name": "stdout",
     "output_type": "stream",
     "text": [
      "Requirement already satisfied: gower in /opt/anaconda3/lib/python3.8/site-packages (0.0.5)\r\n",
      "Requirement already satisfied: numpy in /opt/anaconda3/lib/python3.8/site-packages (from gower) (1.20.1)\r\n",
      "Requirement already satisfied: scipy in /opt/anaconda3/lib/python3.8/site-packages (from gower) (1.6.2)\r\n"
     ]
    }
   ],
   "source": [
    "!pip install gower"
   ]
  },
  {
   "cell_type": "code",
   "execution_count": 105,
   "id": "b6b80cf3",
   "metadata": {},
   "outputs": [
    {
     "data": {
      "text/html": [
       "<div>\n",
       "<style scoped>\n",
       "    .dataframe tbody tr th:only-of-type {\n",
       "        vertical-align: middle;\n",
       "    }\n",
       "\n",
       "    .dataframe tbody tr th {\n",
       "        vertical-align: top;\n",
       "    }\n",
       "\n",
       "    .dataframe thead th {\n",
       "        text-align: right;\n",
       "    }\n",
       "</style>\n",
       "<table border=\"1\" class=\"dataframe\">\n",
       "  <thead>\n",
       "    <tr style=\"text-align: right;\">\n",
       "      <th></th>\n",
       "      <th>level_id</th>\n",
       "      <th>porc_vendidos</th>\n",
       "      <th>prop_last_completed</th>\n",
       "      <th>good_comments</th>\n",
       "      <th>antiguedad_meses</th>\n",
       "    </tr>\n",
       "  </thead>\n",
       "  <tbody>\n",
       "    <tr>\n",
       "      <th>0</th>\n",
       "      <td>5</td>\n",
       "      <td>0.951682</td>\n",
       "      <td>16400</td>\n",
       "      <td>0.98</td>\n",
       "      <td>90.0</td>\n",
       "    </tr>\n",
       "    <tr>\n",
       "      <th>0</th>\n",
       "      <td>5</td>\n",
       "      <td>0.943277</td>\n",
       "      <td>43230</td>\n",
       "      <td>0.96</td>\n",
       "      <td>195.0</td>\n",
       "    </tr>\n",
       "    <tr>\n",
       "      <th>0</th>\n",
       "      <td>5</td>\n",
       "      <td>0.964770</td>\n",
       "      <td>1565</td>\n",
       "      <td>1.00</td>\n",
       "      <td>46.0</td>\n",
       "    </tr>\n",
       "    <tr>\n",
       "      <th>0</th>\n",
       "      <td>5</td>\n",
       "      <td>0.969679</td>\n",
       "      <td>3770</td>\n",
       "      <td>0.99</td>\n",
       "      <td>59.0</td>\n",
       "    </tr>\n",
       "    <tr>\n",
       "      <th>0</th>\n",
       "      <td>5</td>\n",
       "      <td>0.944206</td>\n",
       "      <td>2740</td>\n",
       "      <td>0.96</td>\n",
       "      <td>19.0</td>\n",
       "    </tr>\n",
       "  </tbody>\n",
       "</table>\n",
       "</div>"
      ],
      "text/plain": [
       "   level_id  porc_vendidos  prop_last_completed  good_comments  \\\n",
       "0         5       0.951682                16400           0.98   \n",
       "0         5       0.943277                43230           0.96   \n",
       "0         5       0.964770                 1565           1.00   \n",
       "0         5       0.969679                 3770           0.99   \n",
       "0         5       0.944206                 2740           0.96   \n",
       "\n",
       "   antiguedad_meses  \n",
       "0              90.0  \n",
       "0             195.0  \n",
       "0              46.0  \n",
       "0              59.0  \n",
       "0              19.0  "
      ]
     },
     "execution_count": 105,
     "metadata": {},
     "output_type": "execute_result"
    }
   ],
   "source": [
    "num_clusters = 4\n",
    "random_state = 32\n",
    "\n",
    "\n",
    "gower_data = df_train.copy()\n",
    "dist_matrix = gower.gower_matrix(gower_data)\n",
    "\n",
    "# create target variable\n",
    "target = df_train.pop('power_seller_status')\n",
    "labels = preprocessing.LabelEncoder().fit_transform(target)\n",
    "\n",
    "df_train.head()"
   ]
  },
  {
   "cell_type": "code",
   "execution_count": 106,
   "id": "ffdd8056",
   "metadata": {},
   "outputs": [],
   "source": [
    "scores = pd.DataFrame()\n",
    "predictions = pd.DataFrame()\n",
    "predictions['Label'] = labels"
   ]
  },
  {
   "cell_type": "code",
   "execution_count": 107,
   "id": "e9f9600b",
   "metadata": {},
   "outputs": [],
   "source": [
    "umap_embeddings = umap.UMAP(random_state=42, n_components=2).fit_transform(dist_matrix)\n"
   ]
  },
  {
   "cell_type": "code",
   "execution_count": 108,
   "id": "28b47e2a",
   "metadata": {},
   "outputs": [],
   "source": [
    "gower_data['x'] = umap_embeddings[:,0]\n",
    "gower_data['y'] = umap_embeddings[:,1]\n",
    "\n",
    "gower_data['target'] = [str(x) for x in labels]\n"
   ]
  },
  {
   "cell_type": "code",
   "execution_count": 109,
   "id": "4b6ed719",
   "metadata": {},
   "outputs": [],
   "source": [
    "gower_clusterer = KMedoids(n_clusters=num_clusters, metric='precomputed',\n",
    "                           method='pam', init='build', \n",
    "                           max_iter=300, random_state=random_state).fit(dist_matrix)"
   ]
  },
  {
   "cell_type": "code",
   "execution_count": 110,
   "id": "8398cf6d",
   "metadata": {},
   "outputs": [],
   "source": [
    "gower_data[\"preds\"] = gower_clusterer.labels_\n",
    "gower_data[\"preds\"] = gower_data[\"preds\"].apply(str)\n",
    "\n",
    "predictions['gower_preds'] = gower_clusterer.labels_\n"
   ]
  },
  {
   "cell_type": "code",
   "execution_count": 111,
   "id": "92ebb1d8",
   "metadata": {},
   "outputs": [
    {
     "data": {
      "text/html": [
       "<div>\n",
       "<style scoped>\n",
       "    .dataframe tbody tr th:only-of-type {\n",
       "        vertical-align: middle;\n",
       "    }\n",
       "\n",
       "    .dataframe tbody tr th {\n",
       "        vertical-align: top;\n",
       "    }\n",
       "\n",
       "    .dataframe thead th {\n",
       "        text-align: right;\n",
       "    }\n",
       "</style>\n",
       "<table border=\"1\" class=\"dataframe\">\n",
       "  <thead>\n",
       "    <tr style=\"text-align: right;\">\n",
       "      <th></th>\n",
       "      <th>Adjusted_Mutual_Info</th>\n",
       "      <th>Adjusted_Rand_Score</th>\n",
       "      <th>Algorithm</th>\n",
       "      <th>Calinski_Harabasz</th>\n",
       "      <th>Davis Bouldin</th>\n",
       "      <th>Silhouette</th>\n",
       "    </tr>\n",
       "  </thead>\n",
       "  <tbody>\n",
       "    <tr>\n",
       "      <th>0</th>\n",
       "      <td>0.240818</td>\n",
       "      <td>0.126281</td>\n",
       "      <td>gower_matrix_kmediods_pam</td>\n",
       "      <td>130.169872</td>\n",
       "      <td>1.560897</td>\n",
       "      <td>0.19924</td>\n",
       "    </tr>\n",
       "  </tbody>\n",
       "</table>\n",
       "</div>"
      ],
      "text/plain": [
       "   Adjusted_Mutual_Info  Adjusted_Rand_Score                  Algorithm  \\\n",
       "0              0.240818             0.126281  gower_matrix_kmediods_pam   \n",
       "\n",
       "   Calinski_Harabasz  Davis Bouldin  Silhouette  \n",
       "0         130.169872       1.560897     0.19924  "
      ]
     },
     "execution_count": 111,
     "metadata": {},
     "output_type": "execute_result"
    }
   ],
   "source": [
    "scores = evaluate_clusters(scores,  gower_data[\"preds\"].values,\n",
    "                           gower_data['target'].values, \n",
    "                           name='gower_matrix_kmediods_pam', \n",
    "                           X=dist_matrix)\n",
    "scores"
   ]
  },
  {
   "cell_type": "code",
   "execution_count": 112,
   "id": "93c51476",
   "metadata": {},
   "outputs": [],
   "source": [
    "#--------------------------------------------------------------\n",
    "#-------------------------plots--------------------------------\n",
    "#--------------------------------------------------------------\n",
    "\n",
    "p1 = (p9.ggplot(gower_data, p9.aes(x='x', y='y', fill='target', color='target'))\n",
    "      + p9.geom_point(alpha=0.6, size=2)\n",
    "      + p9.ggtitle('Sellers data Gower Matrix UMAP 2D Ground Truth')\n",
    "      + p9.theme_bw())\n",
    "\n",
    "p2 = (p9.ggplot(gower_data, p9.aes(x='x', y='y', fill='preds', color='preds'))\n",
    "      + p9.geom_point(alpha=0.6, size=2)\n",
    "      + p9.ggtitle('Seller data Gower Matrix UMAP 2D KMedoids')\n",
    "      + p9.theme_bw())\n"
   ]
  },
  {
   "cell_type": "code",
   "execution_count": 113,
   "id": "9c60e39f",
   "metadata": {},
   "outputs": [
    {
     "data": {
      "image/png": "[encoded data removed]",
      "text/plain": [
       "<Figure size 640x480 with 1 Axes>"
      ]
     },
     "metadata": {},
     "output_type": "display_data"
    },
    {
     "data": {
      "text/plain": [
       "<ggplot: (8784543957294)>"
      ]
     },
     "execution_count": 113,
     "metadata": {},
     "output_type": "execute_result"
    }
   ],
   "source": [
    "p1"
   ]
  },
  {
   "cell_type": "code",
   "execution_count": 114,
   "id": "1d57a653",
   "metadata": {},
   "outputs": [
    {
     "data": {
      "image/png": "[encoded data removed]",
      "text/plain": [
       "<Figure size 640x480 with 1 Axes>"
      ]
     },
     "metadata": {},
     "output_type": "display_data"
    },
    {
     "data": {
      "text/plain": [
       "<ggplot: (8784543948605)>"
      ]
     },
     "execution_count": 114,
     "metadata": {},
     "output_type": "execute_result"
    }
   ],
   "source": [
    "p2"
   ]
  },
  {
   "cell_type": "markdown",
   "id": "62aeb7cc",
   "metadata": {},
   "source": [
    "\n",
    "**Pasos a seguir para obtener un modelo mucho más robusto :**\n",
    "* Obtención óptima de una muestra de datos con más registros y variables bien distribuidas.\n",
    "* Obtención de nuevas variables y creación de variables a partir de la información de los productos de cada vendedor. Ej: número de productos en el catálogo. Otras variables interesantes a integrar en el modelo son las relacionadas a la calidad de las imágenes de los productos y sus descripciones.\n",
    "* Ejecución de otros métodos de closterización de información con variables mixtas y comparación de resultados. Ej: K-Prototype.\n"
   ]
  }
 ],
 "metadata": {
  "kernelspec": {
   "display_name": "Python 3",
   "language": "python",
   "name": "python3"
  },
  "language_info": {
   "codemirror_mode": {
    "name": "ipython",
    "version": 3
   },
   "file_extension": ".py",
   "mimetype": "text/x-python",
   "name": "python",
   "nbconvert_exporter": "python",
   "pygments_lexer": "ipython3",
   "version": "3.8.8"
  }
 },
 "nbformat": 4,
 "nbformat_minor": 5
}
